{
 "cells": [
  {
   "cell_type": "markdown",
   "metadata": {},
   "source": [
    "****\n",
    "**Instituto Federal de Educação, Ciência e Tecnologia de Minas Gerais - Campus Ouro Preto**<br>\n",
    "**Especialização em Inteligência Artificial**<br>\n",
    "**Disciplina: Redes Neurais e Aprendizado Profundo**<br>\n",
    "**Profs.: Dr. Agnaldo Silva, Dr. Frederico Gadelha, Dra. Sílvia Almeida**<br>\n",
    "**Alunos:  Fernando Fernandes, Ivanete e Marco Antônio**\n",
    "****"
   ]
  },
  {
   "cell_type": "markdown",
   "metadata": {},
   "source": [
    "3. A partir da análise de um processo de destilação fracionada de petróleo observou-se que determinado óleo poderia ser classificado em duas classes de pureza {C1 e C2}, mediante a medição de três grandezas {x1, x2\n",
    "e x3} que representam algumas das propriedades físico-químicas do óleo. Para tanto, pretende-se utilizar um perceptron para executar a classificação automática dessas duas classes. Assim, baseadas nas informações\n",
    "coletadas do processo, formou-se o conjunto de treinamento em anexo1, tomando por convenção o valor –1 para óleo pertencente à classe C1 e o valor +1 para óleo pertencente à classe C2."
   ]
  },
  {
   "cell_type": "markdown",
   "metadata": {},
   "source": [
    "Daí, pede-se:"
   ]
  },
  {
   "cell_type": "markdown",
   "metadata": {},
   "source": [
    "a. Execute dois treinamentos para a rede perceptron, inicializando-se o vetor de pesos em cada treinamento com valores aleatórios entre zero e um de tal forma que os elementos do vetor de pesos iniciais não sejam os mesmos."
   ]
  },
  {
   "cell_type": "code",
   "execution_count": 92,
   "metadata": {},
   "outputs": [],
   "source": [
    "import numpy as np\n",
    "\n",
    "class Perceptron:\n",
    "    def __init__(self, num_features, learning_rate=0.01, epochs=100):\n",
    "        self.num_features = num_features\n",
    "        self.learning_rate = learning_rate\n",
    "        self.epochs = epochs\n",
    "        self.weights = np.random.rand(num_features + 1)  # initial random weights +1 for the bias term\n",
    "        self.initialWeights = self.weights\n",
    "        print(f'[INFO] \\tRandom initial weights: {self.weights}')\n",
    "\n",
    "    def predict(self, inputs): # activation function\n",
    "        summation = np.dot(inputs, self.weights[1:]) + self.weights[0] # activation potential: u\n",
    "        return 1 if summation >= 0 else -1 # Use of the bipolar step function\n",
    "\n",
    "    def train(self, training_data, labels):\n",
    "        hasError = True\n",
    "        for epoch in range(self.epochs):\n",
    "            #print(f'[INFO] Epoch: {epoch}')\n",
    "            hasError = False\n",
    "            for inputs, label in zip(training_data, labels):\n",
    "                prediction = self.predict(inputs) # return of activation function: y\n",
    "                if prediction != label:\n",
    "                    hasError = True\n",
    "                    update = self.learning_rate * (label - prediction) # eta * (dk - y)\n",
    "                    self.weights[1:] += update * inputs # update weights: w <- w + eta * (dk - y) * xk\n",
    "                    self.weights[0] += update # update activation limiar: tetha <- tetha + eta * (dk - y)\n",
    "                    #print(f'[INFO] Weights: {self.weights}')\n",
    "            if hasError == False:\n",
    "                print(f'[INFO] \\tConverged after: {epoch + 1} epochs.')\n",
    "                break\n",
    "        print(f'[INFO] \\tFinal weights: {self.weights}')\n",
    "        print(f'[INFO] \\tTotal of epochs: {epoch + 1}')\n",
    "    \n",
    "    def getInitialWeights(self):\n",
    "        return self.initialWeights\n",
    "\n",
    "    def getFinalWeights(self):\n",
    "        return self.weights"
   ]
  },
  {
   "cell_type": "code",
   "execution_count": 93,
   "metadata": {},
   "outputs": [
    {
     "name": "stdout",
     "output_type": "stream",
     "text": [
      "\n",
      "[INFO] ###### Perceptron Implementation #######\n",
      "\n",
      "[INFO] Loading training dataset and labels...\n",
      "\t[INFO] OK!\n",
      "\n",
      "[INFO] Getting information about training dataset...\n",
      "[INFO] Training dataset: \n",
      "[[-0.6508  0.1097  4.0009]\n",
      " [-1.4492  0.8896  4.4005]\n",
      " [ 2.085   0.6876 12.071 ]\n",
      " [ 0.2626  1.1476  7.7985]\n",
      " [ 0.6418  1.0234  7.0427]\n",
      " [ 0.2569  0.673   8.3265]\n",
      " [ 1.1155  0.6043  7.4446]\n",
      " [ 0.0914  0.3399  7.0677]\n",
      " [ 0.0121  0.5256  4.6316]\n",
      " [-0.0429  0.466   5.4323]\n",
      " [ 0.434   0.687   8.2287]\n",
      " [ 0.2735  1.0287  7.1934]\n",
      " [ 0.4839  0.4851  7.485 ]\n",
      " [ 0.4089 -0.1267  5.5019]\n",
      " [ 1.4391  0.1614  8.5843]\n",
      " [-0.9115 -0.1973  2.1962]\n",
      " [ 0.3654  1.0475  7.4858]\n",
      " [ 0.2144  0.7515  7.1699]\n",
      " [ 0.2013  1.0014  6.5489]\n",
      " [ 0.6483  0.2183  5.8991]\n",
      " [-0.1147  0.2242  7.2435]\n",
      " [-0.797   0.8795  3.8762]\n",
      " [-1.0625  0.6366  2.4707]\n",
      " [ 0.5307  0.1285  5.6883]\n",
      " [-1.22    0.7777  1.7252]\n",
      " [ 0.3957  0.1076  5.6623]\n",
      " [-0.1013  0.5989  7.1812]\n",
      " [ 2.4482  0.9455 11.2095]\n",
      " [ 2.0149  0.6192 10.9263]\n",
      " [ 0.2012  0.2611  5.4631]]\n",
      "[INFO] Labels of training dataset: \n",
      "[[-1.]\n",
      " [-1.]\n",
      " [-1.]\n",
      " [ 1.]\n",
      " [ 1.]\n",
      " [-1.]\n",
      " [ 1.]\n",
      " [-1.]\n",
      " [ 1.]\n",
      " [ 1.]\n",
      " [-1.]\n",
      " [ 1.]\n",
      " [-1.]\n",
      " [-1.]\n",
      " [-1.]\n",
      " [-1.]\n",
      " [ 1.]\n",
      " [ 1.]\n",
      " [ 1.]\n",
      " [ 1.]\n",
      " [-1.]\n",
      " [ 1.]\n",
      " [ 1.]\n",
      " [ 1.]\n",
      " [ 1.]\n",
      " [-1.]\n",
      " [-1.]\n",
      " [ 1.]\n",
      " [-1.]\n",
      " [ 1.]]\n"
     ]
    }
   ],
   "source": [
    "print(f'\\n[INFO] ###### Perceptron Implementation #######')\n",
    "print(f'\\n[INFO] Loading training dataset and labels...')\n",
    "file = open('tab_treinamento1.dat', 'r')\n",
    "results = list()\n",
    "l = list()\n",
    "\n",
    "for line in file:\n",
    "    columns = line.split()\n",
    "    columns = np.array(columns, dtype=float)\n",
    "    results.append(columns[:3])\n",
    "    l.append(columns[-1:])\n",
    "    \n",
    "training_data = np.array(results)\n",
    "labels = np.array(l)\n",
    "print(f'\\t[INFO] OK!')\n",
    "\n",
    "#training_data = np.array([[0.6508, 0.1097, 4.0009], [-1.4492, 0.8896, 4.4005], [2.085, 0.6876, 1.2071], [0.2626, 1.1476, 7.7985], [0.6418, 1.0234, 7.0427], [0.2569, 0.673, 8.3265], [1.1155, 0.6043, 7.4446], [0.0914, 0.3399, 7.0677], [0.0121, 0.5256, 4.6316], [-0.0429, 0.466, 5.4323], [0.434, 0.687, 8.2287], [0.2735, 1.0287, 7.1934], [0.4839, 0.4851, 7.485], [0.4089, -0.1267, 5.5019], [1.4391, 0.1614, 8.5843], [-0.9115,  -0.1973, 2.1962], [0.3654, 1.0475, 7.4858], [0.2144, 0.7515, 7.1699], [0.2013, 1.0014, 6.5489], [0.6483, 0.2183, 5.8991], [-0.1147, 0.2242, 7.2435], [-0.797, 0.8795, 3.8762], [-1.0625, 0.6366, 2.4707], [0.5307, 0.1285, 5.6883], [-1.22, 0.7777, 1.7252], [0.3957, 0.1076, 5.6623], [-0.1013, 0.5989, 7.1812], [2.4482, 0.9455, 11.2095], [2.0149, 0.6192, 10.9263], [0.2012, 0.2611, 5.4631]])\n",
    "#labels = np.array([-1, -1, -1, 1, 1, -1, 1, -1, 1, 1, -1, 1, -1, -1, -1, -1, 1, 1, 1, 1, -1, 1, 1, 1, 1, -1, -1, 1, -1, 1])\n",
    "print(f'\\n[INFO] Getting information about training dataset...') \n",
    "print(f'[INFO] Training dataset: \\n{training_data}')\n",
    "print(f'[INFO] Labels of training dataset: \\n{labels}')"
   ]
  },
  {
   "cell_type": "code",
   "execution_count": 94,
   "metadata": {},
   "outputs": [
    {
     "name": "stdout",
     "output_type": "stream",
     "text": [
      "\n",
      "[INFO] Creating a Perceptron...\n",
      "[INFO] \tRandom initial weights: [0.17736342 0.15638614 0.47744044 0.1209934 ]\n",
      "[INFO] \tOK!\n"
     ]
    }
   ],
   "source": [
    "# Creating a Perceptron\n",
    "print(f'\\n[INFO] Creating a Perceptron...')\n",
    "number_of_epochs = 10000\n",
    "perceptron1 = Perceptron(num_features=3, learning_rate=0.01, epochs=number_of_epochs)\n",
    "print(f'[INFO] \\tOK!')"
   ]
  },
  {
   "cell_type": "code",
   "execution_count": 95,
   "metadata": {},
   "outputs": [
    {
     "name": "stdout",
     "output_type": "stream",
     "text": [
      "\n",
      "[INFO] Getting information about training dataset...\n",
      "[INFO] \tTraining dataset size = 30\n",
      "[INFO] \tLabels size = 30\n",
      "[INFO] \tLimit of epochs: 10000\n",
      "\n",
      "[INFO] Training the Perceptron 1...\n",
      "[INFO] \tConverged after: 333 epochs.\n",
      "[INFO] \tFinal weights: [ 2.93736342  1.41135414  2.43657844 -0.7023866 ]\n",
      "[INFO] \tTotal of epochs: 333\n",
      "\t[INFO] OK!\n"
     ]
    }
   ],
   "source": [
    "# Training the perceptron 1\n",
    "print(f'\\n[INFO] Getting information about training dataset...')\n",
    "print(f'[INFO] \\tTraining dataset size = {training_data.shape[0]}')\n",
    "print(f'[INFO] \\tLabels size = {labels.shape[0]}')\n",
    "print(f'[INFO] \\tLimit of epochs: {number_of_epochs}')\n",
    "print(f'\\n[INFO] Training the Perceptron 1...')\n",
    "perceptron1.train(training_data, labels)\n",
    "\n",
    "initialWeights = perceptron1.getInitialWeights()\n",
    "finalWeights = perceptron1.getFinalWeights()\n",
    "print(f'\\t[INFO] OK!')"
   ]
  },
  {
   "cell_type": "code",
   "execution_count": 96,
   "metadata": {},
   "outputs": [
    {
     "name": "stdout",
     "output_type": "stream",
     "text": [
      "\n",
      "[INFO] Creating a new Perceptron...\n",
      "[INFO] \tRandom initial weights: [0.44467875 0.60329962 0.69505087 0.33930767]\n",
      "[INFO] \tOK!\n"
     ]
    }
   ],
   "source": [
    "# Creating a new Perceptron\n",
    "print(f'\\n[INFO] Creating a new Perceptron...')\n",
    "number_of_epochs = 10000\n",
    "perceptron2 = Perceptron(num_features=3, learning_rate=0.01, epochs=number_of_epochs)\n",
    "print(f'[INFO] \\tOK!')"
   ]
  },
  {
   "cell_type": "code",
   "execution_count": 97,
   "metadata": {},
   "outputs": [
    {
     "name": "stdout",
     "output_type": "stream",
     "text": [
      "\n",
      "[INFO] Getting information about training dataset...\n",
      "[INFO] \tTraining dataset size = 30\n",
      "[INFO] \tLabels size = 30\n",
      "[INFO] \tLimit of epochs: 10000\n",
      "\n",
      "[INFO] Training the Perceptron 2...\n",
      "[INFO] \tConverged after: 386 epochs.\n",
      "[INFO] \tFinal weights: [ 3.06467875  1.55732162  2.47131887 -0.73088233]\n",
      "[INFO] \tTotal of epochs: 386\n",
      "\t[INFO] OK!\n"
     ]
    }
   ],
   "source": [
    "# Training the perceptron 2\n",
    "print(f'\\n[INFO] Getting information about training dataset...')\n",
    "print(f'[INFO] \\tTraining dataset size = {training_data.shape[0]}')\n",
    "print(f'[INFO] \\tLabels size = {labels.shape[0]}')\n",
    "print(f'[INFO] \\tLimit of epochs: {number_of_epochs}')\n",
    "print(f'\\n[INFO] Training the Perceptron 2...')\n",
    "perceptron2.train(training_data, labels)\n",
    "\n",
    "print(f'\\t[INFO] OK!')"
   ]
  },
  {
   "cell_type": "markdown",
   "metadata": {},
   "source": [
    "b. Registre os resultados dos dois treinamentos na tabela a seguir:\n",
    "\n",
    "<table border=\"1\">\n",
    "\t<tr>\n",
    "\t\t<td rowspan=\"2\">Treinamento</td>\n",
    "\t\t<td colspan=\"4\">Vetor de Pesos Inicial</td>\n",
    "\t\t<td colspan=\"4\">Vetor de Pesos Final</td>\n",
    "\t\t<td rowspan=\"2\"> Número de Épocas</td>\n",
    "\t</tr>\n",
    "\t<tr>\n",
    "\t\t<td>b</td>\n",
    "\t\t<td>w1</td>\n",
    "\t\t<td>w2</td>\n",
    "\t\t<td>w3</td>\n",
    "\t\t<td>b</td>\n",
    "\t\t<td>w1</td>\n",
    "\t\t<td>w2</td>\n",
    "\t\t<td>w3</td>\n",
    "\t</tr>\n",
    "\t<tr>\n",
    "\t\t<td>1º (T1)</td>\n",
    "\t\t<td>0.1773634</td>\n",
    "\t\t<td>0.15638614</td>\n",
    "\t\t<td>0.47744044</td>\n",
    "\t\t<td>0.1209934</td>\n",
    "\t\t<td>2.93736342</td>\n",
    "\t\t<td>1.41135414</td>\n",
    "\t\t<td>2.43657844</td>\n",
    "\t\t<td>-0.7023866</td>\n",
    "\t\t<td>333</td>\n",
    "\t</tr>\n",
    "\t<tr>\n",
    "\t\t<td>2º (T1)</td>\n",
    "\t\t<td>0.44467875</td>\n",
    "\t\t<td>0.15638614</td>\n",
    "\t\t<td>0.69505087</td>\n",
    "\t\t<td>0.33930767</td>\n",
    "\t\t<td>3.06467875</td>\n",
    "\t\t<td>1.55732162</td>\n",
    "\t\t<td>2.47131887</td>\n",
    "\t\t<td>-0.73088233</td>\n",
    "\t\t<td>386</td>\n",
    "\t</tr>\n",
    "</table>"
   ]
  },
  {
   "cell_type": "markdown",
   "metadata": {},
   "source": [
    "c. Após o treinamento do perceptron, aplique-o na classificação automática de novas amostras de óleo (ver arquivo tab_teste1.dat), indicando-se na tabela seguinte os resultados das saídas (Classes) referentes aos dois processos de treinamento realizados no item a."
   ]
  },
  {
   "cell_type": "code",
   "execution_count": 98,
   "metadata": {},
   "outputs": [
    {
     "name": "stdout",
     "output_type": "stream",
     "text": [
      "\n",
      "[INFO] Loading testing dataset...\n",
      "\t[INFO] OK!\n",
      "\n",
      "[INFO] Getting information about testing dataset...\n",
      "[INFO] Testing dataset: \n",
      "[[-0.3565  0.062   5.9891]\n",
      " [-0.7842  1.1267  5.5912]\n",
      " [ 0.3012  0.5611  5.8234]\n",
      " [ 0.7757  1.0648  8.0677]\n",
      " [ 0.157   0.8028  6.304 ]\n",
      " [-0.7014  1.0316  3.6005]\n",
      " [ 0.3748  0.1536  6.1537]\n",
      " [-0.692   0.9404  4.4058]\n",
      " [-1.397   0.7141  4.9263]\n",
      " [-1.8842 -0.2805  1.2548]]\n",
      "[INFO] \tTesting dataset size = 10\n"
     ]
    }
   ],
   "source": [
    "# Testing dataset\n",
    "# test_data = np.array([[0.6508, 0.1097, 4.0009], [-1.4492, 0.8896, 4.4005], [2.085, 0.6876, 1.2071], [0.2626, 1.1476, 7.7985], [0.6418, 1.0234, 7.0427], [0.2569, 0.673, 8.3265], [1.1155, 0.6043, 7.4446], [0.0914, 0.3399, 7.0677], [0.0121, 0.5256, 4.6316], [-0.0429, 0.466, 5.4323], [0.434, 0.687, 8.2287], [0.2735, 1.0287, 7.1934], [0.4839, 0.4851, 7.485], [0.4089, -0.1267, 5.5019], [1.4391, 0.1614, 8.5843], [-0.9115,  -0.1973, 2.1962], [0.3654, 1.0475, 7.4858], [0.2144, 0.7515, 7.1699], [0.2013, 1.0014, 6.5489], [0.6483, 0.2183, 5.8991], [-0.1147, 0.2242, 7.2435], [-0.797, 0.8795, 3.8762], [-1.0625, 0.6366, 2.4707], [0.5307, 0.1285, 5.6883], [-1.22, 0.7777, 1.7252], [0.3957, 0.1076, 5.6623], [-0.1013, 0.5989, 7.1812], [2.4482, 0.9455, 11.2095], [2.0149, 0.6192, 10.9263], [0.2012, 0.2611, 5.4631]])\n",
    "\n",
    "# Testing the perceptron\n",
    "print(f'\\n[INFO] Loading testing dataset...')\n",
    "file = open('tab_teste1.dat', 'r')\n",
    "results = list()\n",
    "\n",
    "for line in file:\n",
    "    columns = line.split()\n",
    "    columns = np.array(columns, dtype=float)\n",
    "    results.append(columns[:])\n",
    "    \n",
    "testing_data = np.array(results)\n",
    "print(f'\\t[INFO] OK!')\n",
    "\n",
    "print(f'\\n[INFO] Getting information about testing dataset...') \n",
    "print(f'[INFO] Testing dataset: \\n{testing_data}')   \n",
    "# print(f'[INFO] \\tTesting dataset size = {training_data.shape[0]}')\n",
    "print(f'[INFO] \\tTesting dataset size = {testing_data.shape[0]}')"
   ]
  },
  {
   "cell_type": "code",
   "execution_count": 99,
   "metadata": {},
   "outputs": [
    {
     "name": "stdout",
     "output_type": "stream",
     "text": [
      "\n",
      "[INFO] Running testing data with Perceptron 1...\n",
      "[INFO] \tInput: [-0.3565  0.062   5.9891] -> Output: -1\n",
      "[INFO] \tInput: [-0.7842  1.1267  5.5912] -> Output: 1\n",
      "[INFO] \tInput: [0.3012 0.5611 5.8234] -> Output: 1\n",
      "[INFO] \tInput: [0.7757 1.0648 8.0677] -> Output: 1\n",
      "[INFO] \tInput: [0.157  0.8028 6.304 ] -> Output: 1\n",
      "[INFO] \tInput: [-0.7014  1.0316  3.6005] -> Output: 1\n",
      "[INFO] \tInput: [0.3748 0.1536 6.1537] -> Output: -1\n",
      "[INFO] \tInput: [-0.692   0.9404  4.4058] -> Output: 1\n",
      "[INFO] \tInput: [-1.397   0.7141  4.9263] -> Output: -1\n",
      "[INFO] \tInput: [-1.8842 -0.2805  1.2548] -> Output: -1\n"
     ]
    }
   ],
   "source": [
    "print(f'\\n[INFO] Running testing data with Perceptron 1...')\n",
    "# for inputs in training_data:\n",
    "for inputs in testing_data:\n",
    "    result = perceptron1.predict(inputs)\n",
    "    print(f\"[INFO] \\tInput: {inputs} -> Output: {result}\")"
   ]
  },
  {
   "cell_type": "code",
   "execution_count": 100,
   "metadata": {},
   "outputs": [
    {
     "name": "stdout",
     "output_type": "stream",
     "text": [
      "\n",
      "[INFO] Running testing data with Perceptron 2...\n",
      "[INFO] \tInput: [-0.3565  0.062   5.9891] -> Output: -1\n",
      "[INFO] \tInput: [-0.7842  1.1267  5.5912] -> Output: 1\n",
      "[INFO] \tInput: [0.3012 0.5611 5.8234] -> Output: 1\n",
      "[INFO] \tInput: [0.7757 1.0648 8.0677] -> Output: 1\n",
      "[INFO] \tInput: [0.157  0.8028 6.304 ] -> Output: 1\n",
      "[INFO] \tInput: [-0.7014  1.0316  3.6005] -> Output: 1\n",
      "[INFO] \tInput: [0.3748 0.1536 6.1537] -> Output: -1\n",
      "[INFO] \tInput: [-0.692   0.9404  4.4058] -> Output: 1\n",
      "[INFO] \tInput: [-1.397   0.7141  4.9263] -> Output: -1\n",
      "[INFO] \tInput: [-1.8842 -0.2805  1.2548] -> Output: -1\n"
     ]
    }
   ],
   "source": [
    "print(f'\\n[INFO] Running testing data with Perceptron 2...')\n",
    "# for inputs in training_data:\n",
    "for inputs in testing_data:\n",
    "    result = perceptron2.predict(inputs)\n",
    "    print(f\"[INFO] \\tInput: {inputs} -> Output: {result}\")"
   ]
  },
  {
   "cell_type": "markdown",
   "metadata": {},
   "source": [
    "<table border=\"1\">\n",
    "\t<tr>\n",
    "\t\t<td>Amostra</td>\n",
    "\t\t<td>x1</td>\n",
    "\t\t<td>x2</td>\n",
    "\t\t<td>x3</td>\n",
    "\t\t<td>y (T1)</td>\n",
    "\t\t<td>y (T2)</td>        \n",
    "\t</tr>\n",
    "\t<tr>\n",
    "\t\t<td>1</td>\n",
    "\t\t<td>-0.3565</td>\n",
    "\t\t<td>0.0620</td>\n",
    "\t\t<td>5.9891</td>\n",
    "\t\t<td>-1</td>\n",
    "\t\t<td>-1</td>\n",
    "\t</tr>\n",
    "\t<tr>\n",
    "\t\t<td>1</td>\n",
    "\t\t<td>2</td>\n",
    "\t\t<td>3</td>\n",
    "\t\t<td>4</td>\n",
    "\t\t<td>5</td>\n",
    "\t\t<td>6</td>\n",
    "\t</tr>\n",
    "\t<tr>\n",
    "\t\t<td>1</td>\n",
    "\t\t<td>2</td>\n",
    "\t\t<td>3</td>\n",
    "\t\t<td>4</td>\n",
    "\t\t<td>5</td>\n",
    "\t\t<td>6</td>\n",
    "\t</tr>\n",
    "\t<tr>\n",
    "\t\t<td>1</td>\n",
    "\t\t<td>2</td>\n",
    "\t\t<td>3</td>\n",
    "\t\t<td>4</td>\n",
    "\t\t<td>5</td>\n",
    "\t\t<td>6</td>\n",
    "\t</tr>\n",
    "\t<tr>\n",
    "\t\t<td>1</td>\n",
    "\t\t<td>2</td>\n",
    "\t\t<td>3</td>\n",
    "\t\t<td>4</td>\n",
    "\t\t<td>5</td>\n",
    "\t\t<td>6</td>\n",
    "\t</tr>\n",
    "\t<tr>\n",
    "\t\t<td>1</td>\n",
    "\t\t<td>2</td>\n",
    "\t\t<td>3</td>\n",
    "\t\t<td>4</td>\n",
    "\t\t<td>5</td>\n",
    "\t\t<td>6</td>\n",
    "\t</tr>            \n",
    "\t<tr>\n",
    "\t\t<td>1</td>\n",
    "\t\t<td>2</td>\n",
    "\t\t<td>3</td>\n",
    "\t\t<td>4</td>\n",
    "\t\t<td>5</td>\n",
    "\t\t<td>6</td>\n",
    "\t</tr>\n",
    "\t<tr>\n",
    "\t\t<td>1</td>\n",
    "\t\t<td>2</td>\n",
    "\t\t<td>3</td>\n",
    "\t\t<td>4</td>\n",
    "\t\t<td>5</td>\n",
    "\t\t<td>6</td>\n",
    "\t</tr>\n",
    "\t<tr>\n",
    "\t\t<td>1</td>\n",
    "\t\t<td>2</td>\n",
    "\t\t<td>3</td>\n",
    "\t\t<td>4</td>\n",
    "\t\t<td>5</td>\n",
    "\t\t<td>6</td>\n",
    "\t</tr>\n",
    "\t<tr>\n",
    "\t\t<td>1</td>\n",
    "\t\t<td>2</td>\n",
    "\t\t<td>3</td>\n",
    "\t\t<td>4</td>\n",
    "\t\t<td>5</td>\n",
    "\t\t<td>6</td>\n",
    "\t</tr>                \n",
    "</table>"
   ]
  },
  {
   "cell_type": "markdown",
   "metadata": {},
   "source": [
    "d. Explique por que o número de épocas de treinamento varia a cada vez que se executa o treinamento do perceptron."
   ]
  },
  {
   "cell_type": "markdown",
   "metadata": {},
   "source": [
    "e. Qual é a principal limitação do perceptron quando aplicado em problemas de classificação de padrões?"
   ]
  }
 ],
 "metadata": {
  "kernelspec": {
   "display_name": "Python 3.8.7 64-bit",
   "language": "python",
   "name": "python3"
  },
  "language_info": {
   "codemirror_mode": {
    "name": "ipython",
    "version": 3
   },
   "file_extension": ".py",
   "mimetype": "text/x-python",
   "name": "python",
   "nbconvert_exporter": "python",
   "pygments_lexer": "ipython3",
   "version": "3.8.7"
  },
  "orig_nbformat": 4,
  "vscode": {
   "interpreter": {
    "hash": "9d87e67db777b4b0db676edb6578e0de57a75ced3517006e5561808a12abc48f"
   }
  }
 },
 "nbformat": 4,
 "nbformat_minor": 2
}
