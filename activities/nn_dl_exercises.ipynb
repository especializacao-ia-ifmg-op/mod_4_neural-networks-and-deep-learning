{
 "cells": [
  {
   "cell_type": "markdown",
   "metadata": {},
   "source": [
    "****\n",
    "**Instituto Federal de Educação, Ciência e Tecnologia de Minas Gerais - Campus Ouro Preto**<br>\n",
    "**Especialização em Inteligência Artificial**<br>\n",
    "**Disciplina: Redes Neurais e Aprendizado Profundo**<br>\n",
    "**Profs.: Dr. Agnaldo José da Rocha Reis**<br>\n",
    "**Alunos:  Fernando dos Santos Alves Fernandes, Ivanete Fátima de Azevedo e Marco Antônio do Nascimento**\n",
    "****"
   ]
  },
  {
   "cell_type": "markdown",
   "metadata": {},
   "source": [
    "1. O que é inteligência para você(s)?"
   ]
  },
  {
   "cell_type": "markdown",
   "metadata": {},
   "source": [
    "*Entendemos a inteligência como uma combinação de conceitos como a sabedoria, o conhecimento, a transformação da mente e a virtude. Para nós, a sabedoria seria a capacidade de compreensão do indivíduo, dado uma informação transmitida a ele. O conhecimento pode ser visto como a consciência adquirida por meio da experiência, estudo ou introspecção, capacitando uma pessoa a interpretar e agir no mundo. A transformação da mente é a capacidade de uma pessoa de mudar seus pensamentos e perspectivas ao longo do tempo, sendo assim uma busca constante por um entendimento de evolução intelectual. Por fim temos a virtude que é a capacidade do indivíduo em buscar a excelência moral e ética, não apenas a excelência intelectual. Isso posto, a inteligência, para nós, não é apenas uma capacidade intelectual do indivíduo, mas também envolve a busca por virtude e a capacidade de transformação da mente. O conceito de inteligência também pode ser associado à capacidade humana de tomar decisões e resolver problemas; à capacidade de se adaptar a diferentes situações; à capacidade de aprender algo novo, a partir da detecção de padrões.*"
   ]
  },
  {
   "cell_type": "markdown",
   "metadata": {},
   "source": [
    "2. Em sua opinião (ou na do grupo), o que aconteceria se alguém descobrisse como implementar uma IA mais abrangente (e.g., AGI) em um robô?"
   ]
  },
  {
   "cell_type": "markdown",
   "metadata": {},
   "source": [
    "*Em algumas tarefas, as máquinas já são capazes de ter um desempenho semelhante ou melhor do que o ser humano, por exemplo, no processamento e análise de dados e imagens. De qualquer forma, os modelos de inteligência artificial atuais são capazes de resolver tarefas específicas. No momento em que for possível o desenvolvimento e implantação de uma IA mais abrangente em um robô, principalmente, se (ou quando) alcançarmos uma AGI (Artificial General Intelligence), para alguns pesquisadores, estaremos diante de um risco à raça humana; para outros, esse é o propósito das pesquisas em Inteligência Artificial. Acreditamos que a implementação de uma IA mais abrangente, como a AGI em robôs, representa uma potencial revolução para a sociedade, podendo causar avanços em diversas esferas, desde a automação industrial até aplicações médicas e pesquisa científica. Dentro da automação industrial, uma AGI poderia otimizar processos em setores variados, elevando eficiência na produção, logística e serviços. Na medicina, os benefícios seriam notáveis, com robôs utilizando IAG para diagnósticos mais precisos, execução de cirurgias complexas e até mesmo fornecimento de suporte emocional a pacientes. Contudo, diversos dilemas éticos podem surgir e demandam reflexões profundas sobre temas como responsabilidade, privacidade e acesso à tecnologia. Além disso, a regulamentação torna-se um ponto que merece atenção, dado que a sociedade deveria estabelecer diretrizes claras para o desenvolvimento e uso responsável da AGI, crucial para assegurar a segurança, transparência e conformidade ética. De todo modo, acreditamos que uma AGI deve ser vista como uma ferramenta para aprimorar capacidades humanas e não uma força substitutiva. Isso posto, precisamos interpretar esse dilema de forma cautelosa e ética, alinhada aos valores fundamentais da sociedade, para garantir que os benefícios da AGI sejam amplamente distribuídos, preservando o bem-estar humano numa era de transformação tecnológica.*"
   ]
  },
  {
   "cell_type": "markdown",
   "metadata": {},
   "source": [
    "3. A partir da análise de um processo de destilação fracionada de petróleo observou-se que determinado óleo poderia ser classificado em duas classes de pureza {C1 e C2}, mediante a medição de três grandezas {x1, x2 e x3} que representam algumas das propriedades físico-químicas do óleo. Para tanto, pretende-se utilizar um perceptron para executar a classificação automática dessas duas classes. Assim, baseadas nas informações coletadas do processo, formou-se o conjunto de treinamento em anexo1, tomando por convenção o valor –1 para óleo pertencente à classe C1 e o valor +1 para óleo pertencente à classe C2."
   ]
  },
  {
   "cell_type": "markdown",
   "metadata": {},
   "source": [
    "Daí, pede-se:"
   ]
  },
  {
   "cell_type": "markdown",
   "metadata": {},
   "source": [
    "a. Execute dois treinamentos para a rede perceptron, inicializando-se o vetor de pesos em cada treinamento com valores aleatórios entre zero e um de tal forma que os elementos do vetor de pesos iniciais não sejam os mesmos."
   ]
  },
  {
   "cell_type": "code",
   "execution_count": 1,
   "metadata": {},
   "outputs": [],
   "source": [
    "import numpy as np\n",
    "\n",
    "class Perceptron:\n",
    "    def __init__(self, num_features, learning_rate=0.01, epochs=100):\n",
    "        self.num_features = num_features\n",
    "        self.learning_rate = learning_rate\n",
    "        self.epochs = epochs\n",
    "        self.weights = np.random.rand(num_features + 1)  # initial random weights +1 for the bias term\n",
    "        self.initialWeights = self.weights\n",
    "        print(f'[INFO] \\tRandom initial weights: {self.weights}')\n",
    "\n",
    "    def predict(self, inputs): # activation function\n",
    "        summation = np.dot(inputs, self.weights[1:]) + self.weights[0] # activation potential: u\n",
    "        return 1 if summation >= 0 else -1 # Use of the bipolar step function\n",
    "\n",
    "    def train(self, training_data, labels):\n",
    "        hasError = True\n",
    "        for epoch in range(self.epochs):\n",
    "            #print(f'[INFO] Epoch: {epoch}')\n",
    "            hasError = False\n",
    "            for inputs, label in zip(training_data, labels):\n",
    "                prediction = self.predict(inputs) # return of activation function: y\n",
    "                if prediction != label:\n",
    "                    hasError = True\n",
    "                    update = self.learning_rate * (label - prediction) # eta * (dk - y)\n",
    "                    self.weights[1:] += update * inputs # update weights: w <- w + eta * (dk - y) * xk\n",
    "                    self.weights[0] += update # update activation limiar: tetha <- tetha + eta * (dk - y)\n",
    "                    #print(f'[INFO] Weights: {self.weights}')\n",
    "            if hasError == False:\n",
    "                print(f'[INFO] \\tConverged after: {epoch + 1} epochs.')\n",
    "                break\n",
    "        print(f'[INFO] \\tFinal weights: {self.weights}')\n",
    "        print(f'[INFO] \\tTotal of epochs: {epoch + 1}')\n",
    "    \n",
    "    def getInitialWeights(self):\n",
    "        return self.initialWeights\n",
    "\n",
    "    def getFinalWeights(self):\n",
    "        return self.weights"
   ]
  },
  {
   "cell_type": "code",
   "execution_count": 2,
   "metadata": {},
   "outputs": [
    {
     "name": "stdout",
     "output_type": "stream",
     "text": [
      "\n",
      "[INFO] ###### Perceptron Implementation #######\n",
      "\n",
      "[INFO] Loading training dataset and labels...\n",
      "\t[INFO] OK!\n",
      "\n",
      "[INFO] Getting information about training dataset...\n",
      "[INFO] Training dataset: \n",
      "[[-0.6508  0.1097  4.0009]\n",
      " [-1.4492  0.8896  4.4005]\n",
      " [ 2.085   0.6876 12.071 ]\n",
      " [ 0.2626  1.1476  7.7985]\n",
      " [ 0.6418  1.0234  7.0427]\n",
      " [ 0.2569  0.673   8.3265]\n",
      " [ 1.1155  0.6043  7.4446]\n",
      " [ 0.0914  0.3399  7.0677]\n",
      " [ 0.0121  0.5256  4.6316]\n",
      " [-0.0429  0.466   5.4323]\n",
      " [ 0.434   0.687   8.2287]\n",
      " [ 0.2735  1.0287  7.1934]\n",
      " [ 0.4839  0.4851  7.485 ]\n",
      " [ 0.4089 -0.1267  5.5019]\n",
      " [ 1.4391  0.1614  8.5843]\n",
      " [-0.9115 -0.1973  2.1962]\n",
      " [ 0.3654  1.0475  7.4858]\n",
      " [ 0.2144  0.7515  7.1699]\n",
      " [ 0.2013  1.0014  6.5489]\n",
      " [ 0.6483  0.2183  5.8991]\n",
      " [-0.1147  0.2242  7.2435]\n",
      " [-0.797   0.8795  3.8762]\n",
      " [-1.0625  0.6366  2.4707]\n",
      " [ 0.5307  0.1285  5.6883]\n",
      " [-1.22    0.7777  1.7252]\n",
      " [ 0.3957  0.1076  5.6623]\n",
      " [-0.1013  0.5989  7.1812]\n",
      " [ 2.4482  0.9455 11.2095]\n",
      " [ 2.0149  0.6192 10.9263]\n",
      " [ 0.2012  0.2611  5.4631]]\n",
      "[INFO] Labels of training dataset: \n",
      "[[-1.]\n",
      " [-1.]\n",
      " [-1.]\n",
      " [ 1.]\n",
      " [ 1.]\n",
      " [-1.]\n",
      " [ 1.]\n",
      " [-1.]\n",
      " [ 1.]\n",
      " [ 1.]\n",
      " [-1.]\n",
      " [ 1.]\n",
      " [-1.]\n",
      " [-1.]\n",
      " [-1.]\n",
      " [-1.]\n",
      " [ 1.]\n",
      " [ 1.]\n",
      " [ 1.]\n",
      " [ 1.]\n",
      " [-1.]\n",
      " [ 1.]\n",
      " [ 1.]\n",
      " [ 1.]\n",
      " [ 1.]\n",
      " [-1.]\n",
      " [-1.]\n",
      " [ 1.]\n",
      " [-1.]\n",
      " [ 1.]]\n"
     ]
    }
   ],
   "source": [
    "print(f'\\n[INFO] ###### Perceptron Implementation #######')\n",
    "print(f'\\n[INFO] Loading training dataset and labels...')\n",
    "file = open('tab_treinamento1.dat', 'r')\n",
    "results = list()\n",
    "l = list()\n",
    "\n",
    "for line in file:\n",
    "    columns = line.split()\n",
    "    columns = np.array(columns, dtype=float)\n",
    "    results.append(columns[:3])\n",
    "    l.append(columns[-1:])\n",
    "    \n",
    "training_data = np.array(results)\n",
    "labels = np.array(l)\n",
    "print(f'\\t[INFO] OK!')\n",
    "\n",
    "#training_data = np.array([[0.6508, 0.1097, 4.0009], [-1.4492, 0.8896, 4.4005], [2.085, 0.6876, 1.2071], [0.2626, 1.1476, 7.7985], [0.6418, 1.0234, 7.0427], [0.2569, 0.673, 8.3265], [1.1155, 0.6043, 7.4446], [0.0914, 0.3399, 7.0677], [0.0121, 0.5256, 4.6316], [-0.0429, 0.466, 5.4323], [0.434, 0.687, 8.2287], [0.2735, 1.0287, 7.1934], [0.4839, 0.4851, 7.485], [0.4089, -0.1267, 5.5019], [1.4391, 0.1614, 8.5843], [-0.9115,  -0.1973, 2.1962], [0.3654, 1.0475, 7.4858], [0.2144, 0.7515, 7.1699], [0.2013, 1.0014, 6.5489], [0.6483, 0.2183, 5.8991], [-0.1147, 0.2242, 7.2435], [-0.797, 0.8795, 3.8762], [-1.0625, 0.6366, 2.4707], [0.5307, 0.1285, 5.6883], [-1.22, 0.7777, 1.7252], [0.3957, 0.1076, 5.6623], [-0.1013, 0.5989, 7.1812], [2.4482, 0.9455, 11.2095], [2.0149, 0.6192, 10.9263], [0.2012, 0.2611, 5.4631]])\n",
    "#labels = np.array([-1, -1, -1, 1, 1, -1, 1, -1, 1, 1, -1, 1, -1, -1, -1, -1, 1, 1, 1, 1, -1, 1, 1, 1, 1, -1, -1, 1, -1, 1])\n",
    "print(f'\\n[INFO] Getting information about training dataset...') \n",
    "print(f'[INFO] Training dataset: \\n{training_data}')\n",
    "print(f'[INFO] Labels of training dataset: \\n{labels}')"
   ]
  },
  {
   "cell_type": "code",
   "execution_count": 94,
   "metadata": {},
   "outputs": [
    {
     "name": "stdout",
     "output_type": "stream",
     "text": [
      "\n",
      "[INFO] Creating a Perceptron...\n",
      "[INFO] \tRandom initial weights: [0.17736342 0.15638614 0.47744044 0.1209934 ]\n",
      "[INFO] \tOK!\n"
     ]
    }
   ],
   "source": [
    "# Creating a Perceptron\n",
    "print(f'\\n[INFO] Creating a Perceptron...')\n",
    "number_of_epochs = 10000\n",
    "perceptron1 = Perceptron(num_features=3, learning_rate=0.01, epochs=number_of_epochs)\n",
    "print(f'[INFO] \\tOK!')"
   ]
  },
  {
   "cell_type": "code",
   "execution_count": 95,
   "metadata": {},
   "outputs": [
    {
     "name": "stdout",
     "output_type": "stream",
     "text": [
      "\n",
      "[INFO] Getting information about training dataset...\n",
      "[INFO] \tTraining dataset size = 30\n",
      "[INFO] \tLabels size = 30\n",
      "[INFO] \tLimit of epochs: 10000\n",
      "\n",
      "[INFO] Training the Perceptron 1...\n",
      "[INFO] \tConverged after: 333 epochs.\n",
      "[INFO] \tFinal weights: [ 2.93736342  1.41135414  2.43657844 -0.7023866 ]\n",
      "[INFO] \tTotal of epochs: 333\n",
      "\t[INFO] OK!\n"
     ]
    }
   ],
   "source": [
    "# Training the perceptron 1\n",
    "print(f'\\n[INFO] Getting information about training dataset...')\n",
    "print(f'[INFO] \\tTraining dataset size = {training_data.shape[0]}')\n",
    "print(f'[INFO] \\tLabels size = {labels.shape[0]}')\n",
    "print(f'[INFO] \\tLimit of epochs: {number_of_epochs}')\n",
    "print(f'\\n[INFO] Training the Perceptron 1...')\n",
    "perceptron1.train(training_data, labels)\n",
    "\n",
    "initialWeights = perceptron1.getInitialWeights()\n",
    "finalWeights = perceptron1.getFinalWeights()\n",
    "print(f'\\t[INFO] OK!')"
   ]
  },
  {
   "cell_type": "code",
   "execution_count": 96,
   "metadata": {},
   "outputs": [
    {
     "name": "stdout",
     "output_type": "stream",
     "text": [
      "\n",
      "[INFO] Creating a new Perceptron...\n",
      "[INFO] \tRandom initial weights: [0.44467875 0.60329962 0.69505087 0.33930767]\n",
      "[INFO] \tOK!\n"
     ]
    }
   ],
   "source": [
    "# Creating a new Perceptron\n",
    "print(f'\\n[INFO] Creating a new Perceptron...')\n",
    "number_of_epochs = 10000\n",
    "perceptron2 = Perceptron(num_features=3, learning_rate=0.01, epochs=number_of_epochs)\n",
    "print(f'[INFO] \\tOK!')"
   ]
  },
  {
   "cell_type": "code",
   "execution_count": 97,
   "metadata": {},
   "outputs": [
    {
     "name": "stdout",
     "output_type": "stream",
     "text": [
      "\n",
      "[INFO] Getting information about training dataset...\n",
      "[INFO] \tTraining dataset size = 30\n",
      "[INFO] \tLabels size = 30\n",
      "[INFO] \tLimit of epochs: 10000\n",
      "\n",
      "[INFO] Training the Perceptron 2...\n",
      "[INFO] \tConverged after: 386 epochs.\n",
      "[INFO] \tFinal weights: [ 3.06467875  1.55732162  2.47131887 -0.73088233]\n",
      "[INFO] \tTotal of epochs: 386\n",
      "\t[INFO] OK!\n"
     ]
    }
   ],
   "source": [
    "# Training the perceptron 2\n",
    "print(f'\\n[INFO] Getting information about training dataset...')\n",
    "print(f'[INFO] \\tTraining dataset size = {training_data.shape[0]}')\n",
    "print(f'[INFO] \\tLabels size = {labels.shape[0]}')\n",
    "print(f'[INFO] \\tLimit of epochs: {number_of_epochs}')\n",
    "print(f'\\n[INFO] Training the Perceptron 2...')\n",
    "perceptron2.train(training_data, labels)\n",
    "\n",
    "print(f'\\t[INFO] OK!')"
   ]
  },
  {
   "cell_type": "markdown",
   "metadata": {},
   "source": [
    "b. Registre os resultados dos dois treinamentos na tabela a seguir:\n",
    "\n",
    "Tabela 1 - Resultados dos treinamentos (**tab_treinamento1.dat**):\n",
    "<table border=\"1\">\n",
    "\t<tr>\n",
    "\t\t<td rowspan=\"2\">Treinamento</td>\n",
    "\t\t<td colspan=\"4\">Vetor de Pesos Inicial</td>\n",
    "\t\t<td colspan=\"4\">Vetor de Pesos Final</td>\n",
    "\t\t<td rowspan=\"2\"> Número de Épocas</td>\n",
    "\t</tr>\n",
    "\t<tr>\n",
    "\t\t<td>b</td>\n",
    "\t\t<td>w1</td>\n",
    "\t\t<td>w2</td>\n",
    "\t\t<td>w3</td>\n",
    "\t\t<td>b</td>\n",
    "\t\t<td>w1</td>\n",
    "\t\t<td>w2</td>\n",
    "\t\t<td>w3</td>\n",
    "\t</tr>\n",
    "\t<tr>\n",
    "\t\t<td>1º (T1)</td>\n",
    "\t\t<td>0.1773634</td>\n",
    "\t\t<td>0.15638614</td>\n",
    "\t\t<td>0.47744044</td>\n",
    "\t\t<td>0.1209934</td>\n",
    "\t\t<td>2.93736342</td>\n",
    "\t\t<td>1.41135414</td>\n",
    "\t\t<td>2.43657844</td>\n",
    "\t\t<td>-0.7023866</td>\n",
    "\t\t<td>333</td>\n",
    "\t</tr>\n",
    "\t<tr>\n",
    "\t\t<td>2º (T1)</td>\n",
    "\t\t<td>0.44467875</td>\n",
    "\t\t<td>0.15638614</td>\n",
    "\t\t<td>0.69505087</td>\n",
    "\t\t<td>0.33930767</td>\n",
    "\t\t<td>3.06467875</td>\n",
    "\t\t<td>1.55732162</td>\n",
    "\t\t<td>2.47131887</td>\n",
    "\t\t<td>-0.73088233</td>\n",
    "\t\t<td>386</td>\n",
    "\t</tr>\n",
    "</table>\n",
    "\n",
    "*Nota: os valores atuais dessa tabela se referem ao últimos treinamentos realizados. Caso os trechos de código acima sejam executados novamente, necessita-se atualizar a tabela.*"
   ]
  },
  {
   "cell_type": "markdown",
   "metadata": {},
   "source": [
    "c. Após o treinamento do perceptron, aplique-o na classificação automática de novas amostras de óleo (ver arquivo tab_teste1.dat), indicando-se na tabela seguinte os resultados das saídas (Classes) referentes aos dois processos de treinamento realizados no item a."
   ]
  },
  {
   "cell_type": "code",
   "execution_count": 98,
   "metadata": {},
   "outputs": [
    {
     "name": "stdout",
     "output_type": "stream",
     "text": [
      "\n",
      "[INFO] Loading testing dataset...\n",
      "\t[INFO] OK!\n",
      "\n",
      "[INFO] Getting information about testing dataset...\n",
      "[INFO] Testing dataset: \n",
      "[[-0.3565  0.062   5.9891]\n",
      " [-0.7842  1.1267  5.5912]\n",
      " [ 0.3012  0.5611  5.8234]\n",
      " [ 0.7757  1.0648  8.0677]\n",
      " [ 0.157   0.8028  6.304 ]\n",
      " [-0.7014  1.0316  3.6005]\n",
      " [ 0.3748  0.1536  6.1537]\n",
      " [-0.692   0.9404  4.4058]\n",
      " [-1.397   0.7141  4.9263]\n",
      " [-1.8842 -0.2805  1.2548]]\n",
      "[INFO] \tTesting dataset size = 10\n"
     ]
    }
   ],
   "source": [
    "# Testing dataset\n",
    "# test_data = np.array([[0.6508, 0.1097, 4.0009], [-1.4492, 0.8896, 4.4005], [2.085, 0.6876, 1.2071], [0.2626, 1.1476, 7.7985], [0.6418, 1.0234, 7.0427], [0.2569, 0.673, 8.3265], [1.1155, 0.6043, 7.4446], [0.0914, 0.3399, 7.0677], [0.0121, 0.5256, 4.6316], [-0.0429, 0.466, 5.4323], [0.434, 0.687, 8.2287], [0.2735, 1.0287, 7.1934], [0.4839, 0.4851, 7.485], [0.4089, -0.1267, 5.5019], [1.4391, 0.1614, 8.5843], [-0.9115,  -0.1973, 2.1962], [0.3654, 1.0475, 7.4858], [0.2144, 0.7515, 7.1699], [0.2013, 1.0014, 6.5489], [0.6483, 0.2183, 5.8991], [-0.1147, 0.2242, 7.2435], [-0.797, 0.8795, 3.8762], [-1.0625, 0.6366, 2.4707], [0.5307, 0.1285, 5.6883], [-1.22, 0.7777, 1.7252], [0.3957, 0.1076, 5.6623], [-0.1013, 0.5989, 7.1812], [2.4482, 0.9455, 11.2095], [2.0149, 0.6192, 10.9263], [0.2012, 0.2611, 5.4631]])\n",
    "\n",
    "# Testing the perceptron\n",
    "print(f'\\n[INFO] Loading testing dataset...')\n",
    "file = open('tab_teste1.dat', 'r')\n",
    "results = list()\n",
    "\n",
    "for line in file:\n",
    "    columns = line.split()\n",
    "    columns = np.array(columns, dtype=float)\n",
    "    results.append(columns[:])\n",
    "    \n",
    "testing_data = np.array(results)\n",
    "print(f'\\t[INFO] OK!')\n",
    "\n",
    "print(f'\\n[INFO] Getting information about testing dataset...') \n",
    "print(f'[INFO] Testing dataset: \\n{testing_data}')   \n",
    "# print(f'[INFO] \\tTesting dataset size = {training_data.shape[0]}')\n",
    "print(f'[INFO] \\tTesting dataset size = {testing_data.shape[0]}')"
   ]
  },
  {
   "cell_type": "code",
   "execution_count": 99,
   "metadata": {},
   "outputs": [
    {
     "name": "stdout",
     "output_type": "stream",
     "text": [
      "\n",
      "[INFO] Running testing data with Perceptron 1...\n",
      "[INFO] \tInput: [-0.3565  0.062   5.9891] -> Output: -1\n",
      "[INFO] \tInput: [-0.7842  1.1267  5.5912] -> Output: 1\n",
      "[INFO] \tInput: [0.3012 0.5611 5.8234] -> Output: 1\n",
      "[INFO] \tInput: [0.7757 1.0648 8.0677] -> Output: 1\n",
      "[INFO] \tInput: [0.157  0.8028 6.304 ] -> Output: 1\n",
      "[INFO] \tInput: [-0.7014  1.0316  3.6005] -> Output: 1\n",
      "[INFO] \tInput: [0.3748 0.1536 6.1537] -> Output: -1\n",
      "[INFO] \tInput: [-0.692   0.9404  4.4058] -> Output: 1\n",
      "[INFO] \tInput: [-1.397   0.7141  4.9263] -> Output: -1\n",
      "[INFO] \tInput: [-1.8842 -0.2805  1.2548] -> Output: -1\n"
     ]
    }
   ],
   "source": [
    "print(f'\\n[INFO] Running testing data with Perceptron 1...')\n",
    "# for inputs in training_data:\n",
    "for inputs in testing_data:\n",
    "    result = perceptron1.predict(inputs)\n",
    "    print(f\"[INFO] \\tInput: {inputs} -> Output: {result}\")"
   ]
  },
  {
   "cell_type": "code",
   "execution_count": 100,
   "metadata": {},
   "outputs": [
    {
     "name": "stdout",
     "output_type": "stream",
     "text": [
      "\n",
      "[INFO] Running testing data with Perceptron 2...\n",
      "[INFO] \tInput: [-0.3565  0.062   5.9891] -> Output: -1\n",
      "[INFO] \tInput: [-0.7842  1.1267  5.5912] -> Output: 1\n",
      "[INFO] \tInput: [0.3012 0.5611 5.8234] -> Output: 1\n",
      "[INFO] \tInput: [0.7757 1.0648 8.0677] -> Output: 1\n",
      "[INFO] \tInput: [0.157  0.8028 6.304 ] -> Output: 1\n",
      "[INFO] \tInput: [-0.7014  1.0316  3.6005] -> Output: 1\n",
      "[INFO] \tInput: [0.3748 0.1536 6.1537] -> Output: -1\n",
      "[INFO] \tInput: [-0.692   0.9404  4.4058] -> Output: 1\n",
      "[INFO] \tInput: [-1.397   0.7141  4.9263] -> Output: -1\n",
      "[INFO] \tInput: [-1.8842 -0.2805  1.2548] -> Output: -1\n"
     ]
    }
   ],
   "source": [
    "print(f'\\n[INFO] Running testing data with Perceptron 2...')\n",
    "# for inputs in training_data:\n",
    "for inputs in testing_data:\n",
    "    result = perceptron2.predict(inputs)\n",
    "    print(f\"[INFO] \\tInput: {inputs} -> Output: {result}\")"
   ]
  },
  {
   "cell_type": "markdown",
   "metadata": {},
   "source": [
    "Tabela 2 - Resultados com as saídas das saída (classes) para os dados de teste (**tab_teste1.dat**):\n",
    "\n",
    "<table border=\"1\">\n",
    "\t<tr>\n",
    "\t\t<td>Amostra</td>\n",
    "\t\t<td>x1</td>\n",
    "\t\t<td>x2</td>\n",
    "\t\t<td>x3</td>\n",
    "\t\t<td>y (T1)</td>\n",
    "\t\t<td>y (T2)</td>        \n",
    "\t</tr>\n",
    "\t<tr>\n",
    "\t\t<td>1</td>\n",
    "\t\t<td>-0.3565</td>\n",
    "\t\t<td>0.0620</td>\n",
    "\t\t<td>5.9891</td>\n",
    "\t\t<td>-1</td>\n",
    "\t\t<td>-1</td>\n",
    "\t</tr>\n",
    "\t<tr>\n",
    "\t\t<td>2</td>\n",
    "\t\t<td>-0.7842</td>\n",
    "\t\t<td>1.1267</td>\n",
    "\t\t<td>5.5912</td>\n",
    "\t\t<td>1</td>\n",
    "\t\t<td>1</td>\n",
    "\t</tr>\n",
    "\t<tr>\n",
    "\t\t<td>3</td>\n",
    "\t\t<td>0.3012</td>\n",
    "\t\t<td>0.5611</td>\n",
    "\t\t<td>5.8234</td>\n",
    "\t\t<td>1</td>\n",
    "\t\t<td>1</td>\n",
    "\t</tr>\n",
    "\t<tr>\n",
    "\t\t<td>4</td>\n",
    "\t\t<td>0.7757</td>\n",
    "\t\t<td>1.0648</td>\n",
    "\t\t<td>8.0677</td>\n",
    "\t\t<td>1</td>\n",
    "\t\t<td>1</td>\n",
    "\t</tr>\n",
    "\t<tr>\n",
    "\t\t<td>5</td>\n",
    "\t\t<td>0.157</td>\n",
    "\t\t<td>0.8028</td>\n",
    "\t\t<td>6.304</td>\n",
    "\t\t<td>1</td>\n",
    "\t\t<td>1</td>\n",
    "\t</tr>\n",
    "\t<tr>\n",
    "\t\t<td>6</td>\n",
    "\t\t<td>-0.7014</td>\n",
    "\t\t<td>1.0316</td>\n",
    "\t\t<td>3.6005</td>\n",
    "\t\t<td>1</td>\n",
    "\t\t<td>1</td>\n",
    "\t</tr>            \n",
    "\t<tr>\n",
    "\t\t<td>7</td>\n",
    "\t\t<td>0.3748</td>\n",
    "\t\t<td>0.1536</td>\n",
    "\t\t<td>6.1537</td>\n",
    "\t\t<td>-1</td>\n",
    "\t\t<td>-1</td>\n",
    "\t</tr>\n",
    "\t<tr>\n",
    "\t\t<td>8</td>\n",
    "\t\t<td>-0.692</td>\n",
    "\t\t<td>0.9404</td>\n",
    "\t\t<td>4.4058</td>\n",
    "\t\t<td>1</td>\n",
    "\t\t<td>1</td>\n",
    "\t</tr>\n",
    "\t<tr>\n",
    "\t\t<td>9</td>\n",
    "\t\t<td>-1.397</td>\n",
    "\t\t<td>0.7141</td>\n",
    "\t\t<td>4.9263</td>\n",
    "\t\t<td>-1</td>\n",
    "\t\t<td>-1</td>\n",
    "\t</tr>\n",
    "\t<tr>\n",
    "\t\t<td>10</td>\n",
    "\t\t<td>-1.8842</td>\n",
    "\t\t<td>-0.2805</td>\n",
    "\t\t<td>1.2548</td>\n",
    "\t\t<td>-1</td>\n",
    "\t\t<td>-1</td>\n",
    "\t</tr>                \n",
    "</table>\n",
    "\n",
    "*Nota: os valores atuais dessa tabela se referem ao últimos testes realizados. Caso os trechos de código acima sejam executados novamente, necessita-se atualizar a tabela.*"
   ]
  },
  {
   "cell_type": "markdown",
   "metadata": {},
   "source": [
    "d. Explique por que o número de épocas de treinamento varia a cada vez que se executa o treinamento do perceptron."
   ]
  },
  {
   "cell_type": "markdown",
   "metadata": {},
   "source": [
    "*O número de épocas necessárias para a convergência do processo de treinamento varia conforme os valores iniciais dos pesos e do limiar de ativação. Esses valores iniciais definem quão longe da fronteira de seperação o treinamento inicia o ajuste do modelo. Se os valores iniciais atribuídos aos pesos e ao limiar de ativação são definidos aleatoriamente, a cada execução do treinamento, o número de épocas para a convergência normalmente é diferente.*"
   ]
  },
  {
   "cell_type": "markdown",
   "metadata": {},
   "source": [
    "e. Qual é a principal limitação do perceptron quando aplicado em problemas de classificação de padrões?"
   ]
  },
  {
   "cell_type": "markdown",
   "metadata": {},
   "source": [
    "*Os perceptrons são um tipo de rede neurais apropriada para tarefa de classificação de padrões em que as classes são linearmente separáveis. Por isso, para problemas não linearmente separáveis utilizando perceptrons, é necessário especificar um número máximo de épocas de treinamento.*"
   ]
  },
  {
   "cell_type": "markdown",
   "metadata": {},
   "source": [
    "4. Um sistema de gerenciamento automático de controle de duas válvulas, situado a 500 metros de um processo industrial, envia um sinal codificado constituído de quatro grandezas {x1, x2, x3 e x4} que são necessárias para o ajuste de cada uma das válvulas. Conforme mostra a figura abaixo, a mesma via de comunicação é utilizada para acionamento de ambas as válvulas, sendo que o  comutador localizado próximo das válvulas deve decidir se o sinal é para a válvula A ou B. Porém, durante a transmissão, os sinais sofrem interferências que alteram o conteúdo das informações transmitidas. Para resolver este problema, treinar-se-á uma rede ADALINE para classificar os sinais ruidosos, que informará ao sistema comutador se os dados devem ser encaminhados para o comando de ajuste da válvula A ou B. Assim, baseado nas medições dos sinais já com ruídos, formou-se o conjunto de treinamento em anexo2, tomando por convenção o valor –1 para os sinais que devem ser encaminhados para o ajuste da válvula A e o valor +1 se os mesmos devem ser enviados para a válvula B."
   ]
  },
  {
   "cell_type": "markdown",
   "metadata": {},
   "source": [
    "Daí, pede-se:"
   ]
  },
  {
   "cell_type": "markdown",
   "metadata": {},
   "source": [
    "a. Execute 2 treinamentos para a rede ADALINE inicializando o vetor de pesos em cada treinamento com valores aleatórios entre zero e um de tal forma que os elementos do vetor de pesos iniciais não sejam os mesmos."
   ]
  },
  {
   "cell_type": "code",
   "execution_count": 3,
   "metadata": {},
   "outputs": [],
   "source": [
    "import numpy as np\n",
    "\n",
    "class Adaline:\n",
    "    def __init__(self, num_features, learning_rate=0.01, epochs=100, epsilon=1e-5):\n",
    "        self.num_features = num_features\n",
    "        self.learning_rate = learning_rate\n",
    "        self.epochs = epochs\n",
    "        self.epsilon = epsilon\n",
    "        self.weights = np.random.rand(num_features + 1)  # initial random weights +1 for the bias term\n",
    "        print(f'[INFO] \\tRandom initial weights: {self.weights}')\n",
    "\n",
    "    def predict(self, inputs): # activation function\n",
    "        activation = np.dot(inputs, self.weights[1:]) + self.weights[0] # activation potential: u\n",
    "        return 1 if activation >= 0 else -1  # Use of the bipolar step function\n",
    "\n",
    "    def train(self, training_data, targets):\n",
    "        mse = 0\n",
    "        for epoch in range(self.epochs):\n",
    "            total_error = 0\n",
    "            #print(f'[INFO] Epoch: {epoch}')\n",
    "            for inputs, target in zip(training_data, targets):\n",
    "                activation = self.predict(inputs) # return of activation function: y\n",
    "                error = target - activation\n",
    "                self.weights[1:] += self.learning_rate * error * inputs\n",
    "                self.weights[0] += self.learning_rate * error\n",
    "                total_error += error ** 2\n",
    "            mse = total_error / len(targets)\n",
    "            if mse < self.epsilon:\n",
    "                print(f'[INFO] \\tConverged after: {epoch + 1} epochs.')\n",
    "                break\n",
    "        print(f'[INFO] \\tFinal weights: {self.weights}') \n",
    "        print(f'[INFO] \\tTotal of epochs: {epoch + 1}')\n",
    "        print(f'[INFO] \\tMean square error: {mse}')"
   ]
  },
  {
   "cell_type": "code",
   "execution_count": 4,
   "metadata": {},
   "outputs": [
    {
     "name": "stdout",
     "output_type": "stream",
     "text": [
      "\n",
      "[INFO] ###### Adaline Implementation #######\n",
      "\n",
      "[INFO] Loading training dataset and targets...\n",
      "[INFO] \tOK!\n",
      "[INFO] \tTraining dataset: \n",
      "[[ 4.3290e-01 -1.3719e+00  7.0220e-01 -8.5350e-01]\n",
      " [ 3.0240e-01  2.2860e-01  8.6300e-01  2.7909e+00]\n",
      " [ 1.3490e-01 -6.4450e-01  1.0530e+00  5.6870e-01]\n",
      " [ 3.3740e-01 -1.7163e+00  3.6700e-01 -6.2830e-01]\n",
      " [ 1.1434e+00 -4.8500e-02  6.6370e-01  1.2606e+00]\n",
      " [ 1.3749e+00 -5.0710e-01  4.4640e-01  1.3009e+00]\n",
      " [ 7.2210e-01 -7.5870e-01  7.6810e-01 -5.5920e-01]\n",
      " [ 4.4030e-01 -8.0720e-01  5.1540e-01 -3.1290e-01]\n",
      " [-5.2310e-01  3.5480e-01  2.5380e-01  1.5776e+00]\n",
      " [ 3.2550e-01 -2.0000e+00  7.1120e-01 -1.1209e+00]\n",
      " [ 5.8240e-01  1.3915e+00 -2.2910e-01  4.1735e+00]\n",
      " [ 1.3400e-01  6.0810e-01  4.4500e-01  3.2230e+00]\n",
      " [ 1.4800e-01 -2.9880e-01  4.7780e-01  8.6490e-01]\n",
      " [ 7.3590e-01  1.8690e-01 -8.7200e-02  2.3584e+00]\n",
      " [ 7.1150e-01 -1.1469e+00  3.3940e-01  9.5730e-01]\n",
      " [ 8.2510e-01 -1.2840e+00  8.4520e-01  1.2382e+00]\n",
      " [ 1.5690e-01  3.7120e-01  8.8250e-01  1.7633e+00]\n",
      " [ 3.3000e-03  6.8350e-01  5.3890e-01  2.8249e+00]\n",
      " [ 4.2430e-01  8.3130e-01  2.6340e-01  3.5855e+00]\n",
      " [ 1.0490e+00  1.3260e-01  9.1380e-01  1.9792e+00]\n",
      " [ 1.4276e+00  5.3310e-01 -1.4500e-02  3.7286e+00]\n",
      " [ 5.9710e-01  1.4865e+00  2.9040e-01  4.6069e+00]\n",
      " [ 8.4750e-01  2.1479e+00  3.1790e-01  5.8235e+00]\n",
      " [ 1.3967e+00 -4.1710e-01  6.4430e-01  1.3927e+00]\n",
      " [ 4.4000e-03  1.5378e+00  6.0990e-01  4.7755e+00]\n",
      " [ 2.2010e-01 -5.6680e-01  5.1500e-02  7.8290e-01]\n",
      " [ 6.3000e-01 -1.2480e+00  8.5910e-01  8.0930e-01]\n",
      " [-2.4790e-01  8.9600e-01  5.4700e-02  1.7381e+00]\n",
      " [-3.0880e-01 -9.2900e-02  8.6590e-01  1.5483e+00]\n",
      " [-5.1800e-01  1.4974e+00  5.4530e-01  2.3993e+00]\n",
      " [ 6.8330e-01  8.2660e-01  8.2900e-02  2.8864e+00]\n",
      " [ 4.3530e-01 -1.4066e+00  4.2070e-01 -4.8790e-01]\n",
      " [-1.0690e-01 -3.2329e+00  1.8560e-01 -2.4572e+00]\n",
      " [ 4.6620e-01  6.2610e-01  7.3040e-01  3.4370e+00]\n",
      " [ 8.2980e-01 -1.4089e+00  3.1190e-01  1.3235e+00]]\n",
      "[INFO] \tTargets of training dataset: \n",
      "[[ 1.]\n",
      " [-1.]\n",
      " [-1.]\n",
      " [-1.]\n",
      " [ 1.]\n",
      " [ 1.]\n",
      " [ 1.]\n",
      " [ 1.]\n",
      " [-1.]\n",
      " [ 1.]\n",
      " [-1.]\n",
      " [-1.]\n",
      " [ 1.]\n",
      " [ 1.]\n",
      " [-1.]\n",
      " [-1.]\n",
      " [ 1.]\n",
      " [-1.]\n",
      " [-1.]\n",
      " [ 1.]\n",
      " [ 1.]\n",
      " [-1.]\n",
      " [-1.]\n",
      " [ 1.]\n",
      " [-1.]\n",
      " [ 1.]\n",
      " [-1.]\n",
      " [ 1.]\n",
      " [-1.]\n",
      " [ 1.]\n",
      " [ 1.]\n",
      " [ 1.]\n",
      " [-1.]\n",
      " [-1.]\n",
      " [-1.]]\n"
     ]
    }
   ],
   "source": [
    "print(f'\\n[INFO] ###### Adaline Implementation #######')\n",
    "print(f'\\n[INFO] Loading training dataset and targets...')\n",
    "file = open('tab_treinamento2.dat', 'r')\n",
    "results = list()\n",
    "t = list()\n",
    "\n",
    "for line in file:\n",
    "    columns = line.split()\n",
    "    columns = np.array(columns, dtype=float)\n",
    "    results.append(columns[:4])\n",
    "    t.append(columns[-1:])\n",
    "    \n",
    "training_data = np.array(results)\n",
    "targets = np.array(t)\n",
    "print(f'[INFO] \\tOK!')\n",
    "\n",
    "#training_data = np.array([[4.3290000e-01, -1.3719000e+00, 7.0220000e-01, -8.5350000e-01],[3.0240000e-01, 2.2860000e-01, 8.6300000e-01, 2.7909000e+00],[1.3490000e-01, -6.4450000e-01, 1.0530000e+00, 5.6870000e-01],[3.3740000e-01, -1.7163000e+00, 3.6700000e-01, -6.2830000e-01],[1.1434000e+00, -4.8500000e-02, 6.6370000e-01, 1.2606000e+00],[1.3749000e+00, -5.0710000e-01, 4.4640000e-01, 1.3009000e+00],[7.2210000e-01, -7.5870000e-01, 7.6810000e-01, -5.5920000e-01],[4.4030000e-01, -8.0720000e-01, 5.1540000e-01, -3.1290000e-01],[-5.2310000e-01, 3.5480000e-01, 2.5380000e-01, 1.5776000e+00],[3.2550000e-01, -2.0000000e+00, 7.1120000e-01  -1.1209000e+00],[5.8240000e-01, 1.3915000e+00, -2.2910000e-01, 4.1735000e+00],[1.3400000e-01, 6.0810000e-01, 4.4500000e-01, 3.2230000e+00],[1.4800000e-01, -2.9880000e-01, 4.7780000e-01, 8.6490000e-01],[7.3590000e-01, 1.8690000e-01, -8.7200000e-02, 2.3584000e+00],[7.1150000e-01, -1.1469000e+00, 3.3940000e-01, 9.5730000e-01],[8.2510000e-01, -1.2840000e+00, 8.4520000e-01, 1.2382000e+00],[1.5690000e-01, 3.7120000e-01, 8.8250000e-01, 1.7633000e+00],[3.3000000e-03, 6.8350000e-01, 5.3890000e-01, 2.8249000e+00],[4.2430000e-01, 8.3130000e-01, 2.6340000e-01, 3.5855000e+00],[1.0490000e+00, 1.3260000e-01, 9.1380000e-01, 1.9792000e+00],[1.4276000e+00, 5.3310000e-01, -1.4500000e-02, 3.7286000e+00],[5.9710000e-01, 1.4865000e+00, 2.9040000e-01, 4.6069000e+00],[8.4750000e-01, 2.1479000e+00, 3.1790000e-01, 5.8235000e+00],[1.3967000e+00, -4.1710000e-01, 6.4430000e-01, 1.3927000e+00],[4.4000000e-03, 1.5378000e+00, 6.0990000e-01, 4.7755000e+00],[2.2010000e-01, -5.6680000e-01, 5.1500000e-02, 7.8290000e-01],[6.3000000e-01, -1.2480000e+00, 8.5910000e-01, 8.0930000e-01],[-2.4790000e-01, 8.9600000e-01, 5.4700000e-02, 1.7381000e+00],[-3.0880000e-01, -9.2900000e-02, 8.6590000e-01, 1.5483000e+00],[-5.1800000e-01, 1.4974000e+00, 5.4530000e-01, 2.3993000e+00],[6.8330000e-01, 8.2660000e-01, 8.2900000e-02, 2.8864000e+00],[4.3530000e-01, -1.4066000e+00, 4.2070000e-01, -4.8790000e-01],[-1.0690000e-01, -3.2329000e+00, 1.8560000e-01, -2.4572000e+00],[4.6620000e-01, 6.2610000e-01, 7.3040000e-01, 3.4370000e+00], [8.2980000e-01, -1.4089000e+00, 3.1190000e-01, 1.3235000e+00]])\n",
    "# targets = np.array([1.0000000e+00, -1.0000000e+00, -1.0000000e+00, -1.0000000e+00, 1.0000000e+00, 1.0000000e+00, 1.0000000e+00, 1.0000000e+00, -1.0000000e+00, 1.0000000e+00, -1.0000000e+00, -1.0000000e+00, 1.0000000e+00, 1.0000000e+00, -1.0000000e+00, -1.0000000e+00, 1.0000000e+00, -1.0000000e+00, -1.0000000e+00, 1.0000000e+00, 1.0000000e+00, -1.0000000e+00, -1.0000000e+00, 1.0000000e+00, -1.0000000e+00, 1.0000000e+00, -1.0000000e+00, 1.0000000e+00, -1.0000000e+00, 1.0000000e+00, 1.0000000e+00, 1.0000000e+00, -1.0000000e+00, -1.0000000e+00, -1.0000000e+00])\n",
    "print(f'[INFO] \\tTraining dataset: \\n{training_data}')\n",
    "print(f'[INFO] \\tTargets of training dataset: \\n{targets}')"
   ]
  },
  {
   "cell_type": "code",
   "execution_count": 5,
   "metadata": {},
   "outputs": [
    {
     "name": "stdout",
     "output_type": "stream",
     "text": [
      "\n",
      "[INFO] Creating an Adaline...\n",
      "[INFO] \tRandom initial weights: [0.85687093 0.02633478 0.96817149 0.24457783 0.34848885]\n",
      "[INFO] \tOK!\n"
     ]
    }
   ],
   "source": [
    "# Creating an Adaline\n",
    "print(f'\\n[INFO] Creating an Adaline...')\n",
    "number_of_epochs = 10000\n",
    "epsilon = 1e-5\n",
    "adaline1 = Adaline(num_features=4, learning_rate=0.01, epochs=number_of_epochs, epsilon=epsilon)\n",
    "print(f'[INFO] \\tOK!')    "
   ]
  },
  {
   "cell_type": "code",
   "execution_count": 6,
   "metadata": {},
   "outputs": [
    {
     "name": "stdout",
     "output_type": "stream",
     "text": [
      "\n",
      "[INFO] Getting information about training dataset...\n",
      "[INFO] \tTraining dataset size = 35 4\n",
      "[INFO] \tLabels size = 35 1\n",
      "[INFO] \tLimit of epochs: 10000\n",
      "[INFO] \tEpsilon: 1e-05\n",
      "\n",
      "[INFO] Training the Adaline 1...\n",
      "[INFO] \tConverged after: 39 epochs.\n",
      "[INFO] \tFinal weights: [ 0.61687093  0.54973078  0.61733949 -0.08346417 -0.44539315]\n",
      "[INFO] \tTotal of epochs: 39\n",
      "[INFO] \tMean square error: [0.]\n",
      "[INFO] \tOK!\n"
     ]
    }
   ],
   "source": [
    "# Training the Adaline\n",
    "print(f'\\n[INFO] Getting information about training dataset...')\n",
    "print(f'[INFO] \\tTraining dataset size = {training_data.shape[0]} {training_data.shape[1]}')\n",
    "print(f'[INFO] \\tLabels size = {targets.shape[0]} {targets.shape[1]}')\n",
    "print(f'[INFO] \\tLimit of epochs: {number_of_epochs}')\n",
    "print(f'[INFO] \\tEpsilon: {epsilon}')\n",
    "print(f'\\n[INFO] Training the Adaline 1...')\n",
    "adaline1.train(training_data, targets)\n",
    "print(f'[INFO] \\tOK!')"
   ]
  },
  {
   "cell_type": "code",
   "execution_count": 7,
   "metadata": {},
   "outputs": [
    {
     "name": "stdout",
     "output_type": "stream",
     "text": [
      "\n",
      "[INFO] Creating an new Adaline...\n",
      "[INFO] \tRandom initial weights: [0.73993445 0.71783308 0.88046206 0.71642348 0.55246439]\n",
      "[INFO] \tOK!\n"
     ]
    }
   ],
   "source": [
    "# Creating an Adaline\n",
    "print(f'\\n[INFO] Creating an new Adaline...')\n",
    "number_of_epochs = 10000\n",
    "epsilon = 1e-5\n",
    "adaline2 = Adaline(num_features=4, learning_rate=0.01, epochs=number_of_epochs, epsilon=epsilon)\n",
    "print(f'[INFO] \\tOK!')    "
   ]
  },
  {
   "cell_type": "code",
   "execution_count": 8,
   "metadata": {},
   "outputs": [
    {
     "name": "stdout",
     "output_type": "stream",
     "text": [
      "\n",
      "[INFO] Getting information about training dataset...\n",
      "[INFO] \tTraining dataset size = 35 4\n",
      "[INFO] \tLabels size = 35 1\n",
      "[INFO] \tLimit of epochs: 10000\n",
      "[INFO] \tEpsilon: 1e-05\n",
      "\n",
      "[INFO] Training the Adaline 2...\n",
      "[INFO] \tConverged after: 62 epochs.\n",
      "[INFO] \tFinal weights: [ 0.63993445  0.64771308  0.67042606 -0.07245452 -0.49953761]\n",
      "[INFO] \tTotal of epochs: 62\n",
      "[INFO] \tMean square error: [0.]\n",
      "[INFO] \tOK!\n"
     ]
    }
   ],
   "source": [
    "# Training the Adaline\n",
    "print(f'\\n[INFO] Getting information about training dataset...')\n",
    "print(f'[INFO] \\tTraining dataset size = {training_data.shape[0]} {training_data.shape[1]}')\n",
    "print(f'[INFO] \\tLabels size = {targets.shape[0]} {targets.shape[1]}')\n",
    "print(f'[INFO] \\tLimit of epochs: {number_of_epochs}')\n",
    "print(f'[INFO] \\tEpsilon: {epsilon}')\n",
    "print(f'\\n[INFO] Training the Adaline 2...')\n",
    "adaline2.train(training_data, targets)\n",
    "print(f'[INFO] \\tOK!')"
   ]
  },
  {
   "cell_type": "markdown",
   "metadata": {},
   "source": [
    "b. Registre os resultados dos dois treinamentos na tabela a seguir:\n",
    "\n",
    "Tabela 3 - Resultados dos treinamentos (**tab_treinamento2.dat**):\n",
    "<table border=\"1\">\n",
    "\t<tr>\n",
    "\t\t<td rowspan=\"2\">Treinamento</td>\n",
    "\t\t<td colspan=\"5\">Vetor de Pesos Inicial</td>\n",
    "\t\t<td colspan=\"5\">Vetor de Pesos Final</td>\n",
    "\t\t<td rowspan=\"2\"> Número de Épocas</td>\n",
    "\t</tr>\n",
    "\t<tr>\n",
    "\t\t<td>b</td>\n",
    "\t\t<td>w1</td>\n",
    "\t\t<td>w2</td>\n",
    "\t\t<td>w3</td>\n",
    "        <td>w4</td>\n",
    "\t\t<td>b</td>\n",
    "\t\t<td>w1</td>\n",
    "\t\t<td>w2</td>\n",
    "\t\t<td>w3</td>\n",
    "\t\t<td>w4</td>        \n",
    "\t</tr>\n",
    "\t<tr>\n",
    "\t\t<td>1º (T1)</td>\n",
    "\t\t<td>0.85687093</td>\n",
    "\t\t<td>0.02633478</td>\n",
    "\t\t<td>0.96817149</td>\n",
    "\t\t<td>0.24457783</td>\n",
    "        <td>0.34848885</td>\n",
    "\t\t<td>0.61687093</td>\n",
    "\t\t<td>0.54973078</td>\n",
    "\t\t<td>0.61733949</td>\n",
    "\t\t<td>-0.08346417</td>\n",
    "        <td>-0.44539315</td>\n",
    "\t\t<td>39</td>\n",
    "\t</tr>\n",
    "\t<tr>\n",
    "\t\t<td>2º (T1)</td>\n",
    "\t\t<td>0.73993445</td>\n",
    "\t\t<td>0.71783308</td>\n",
    "\t\t<td>0.88046206</td>\n",
    "\t\t<td>0.71642348</td>\n",
    "        <td>0.55246439</td>\n",
    "\t\t<td>0.63993445</td>\n",
    "\t\t<td>0.64771308</td>\n",
    "\t\t<td>0.67042606</td>\n",
    "\t\t<td>-0.07245452</td>\n",
    "        <td>-0.49953761</td>\n",
    "\t\t<td>62</td>\n",
    "\t</tr>\n",
    "</table>\n",
    "\n",
    "*Nota: os valores atuais dessa tabela se referem ao últimos treinamentos realizados. Caso os trechos de código acima sejam executados novamente, necessita-se atualizar a tabela.*"
   ]
  },
  {
   "cell_type": "markdown",
   "metadata": {},
   "source": [
    "c. Para os treinamentos realizados, aplique então a rede ADALINE para classificar e informar ao comutador se os sinais seguintes devem ser encaminhados para a válvula A ou B (ver tab_teste2.dat)."
   ]
  },
  {
   "cell_type": "code",
   "execution_count": 9,
   "metadata": {},
   "outputs": [
    {
     "name": "stdout",
     "output_type": "stream",
     "text": [
      "\n",
      "[INFO] Loading testing dataset...\n",
      "\t[INFO] OK!\n",
      "\n",
      "[INFO] Getting information about testing dataset...\n",
      "[INFO] \tTesting dataset size = 15\n"
     ]
    }
   ],
   "source": [
    "# # Testing the adaline\n",
    "print(f'\\n[INFO] Loading testing dataset...')\n",
    "file = open('tab_teste2.dat', 'r')\n",
    "results = list()\n",
    "\n",
    "for line in file:\n",
    "    columns = line.split()\n",
    "    columns = np.array(columns, dtype=float)\n",
    "    results.append(columns[:])\n",
    "    \n",
    "testing_data = np.array(results)\n",
    "print(f'\\t[INFO] OK!')\n",
    "\n",
    "print(f'\\n[INFO] Getting information about testing dataset...')\n",
    "# print(f'[INFO] Testing dataset size = {training_data.shape[0]}')\n",
    "print(f'[INFO] \\tTesting dataset size = {testing_data.shape[0]}')"
   ]
  },
  {
   "cell_type": "code",
   "execution_count": 10,
   "metadata": {},
   "outputs": [
    {
     "name": "stdout",
     "output_type": "stream",
     "text": [
      "\n",
      "[INFO] Running testing data with Adaline 1...\n",
      "[INFO] \tInput: [0.9694 0.6909 0.4334 3.4965] -> Output: -1\n",
      "[INFO] \tInput: [0.5427 1.3832 0.639  4.0352] -> Output: -1\n",
      "[INFO] \tInput: [ 0.6081 -0.9196  0.5925  0.1016] -> Output: 1\n",
      "[INFO] \tInput: [-0.1618  0.4694  0.203   3.0117] -> Output: -1\n",
      "[INFO] \tInput: [ 0.187  -0.2578  0.6124  1.7749] -> Output: -1\n",
      "[INFO] \tInput: [ 0.4891 -0.5276  0.4378  0.6439] -> Output: 1\n",
      "[INFO] \tInput: [0.3777 2.0149 0.7423 3.3932] -> Output: 1\n",
      "[INFO] \tInput: [ 1.1498 -0.4067  0.2469  1.5866] -> Output: 1\n",
      "[INFO] \tInput: [0.9325 1.095  1.0359 3.3591] -> Output: 1\n",
      "[INFO] \tInput: [0.506  1.3317 0.9222 3.7174] -> Output: -1\n",
      "[INFO] \tInput: [ 0.0497 -2.0656  0.6124 -0.6585] -> Output: -1\n",
      "[INFO] \tInput: [0.4004 3.5369 0.9766 5.3532] -> Output: 1\n",
      "[INFO] \tInput: [-0.1874  1.3343  0.5374  3.2189] -> Output: -1\n",
      "[INFO] \tInput: [0.506  1.3317 0.9222 3.7174] -> Output: -1\n",
      "[INFO] \tInput: [ 1.6375 -0.7911  0.7537  0.5515] -> Output: 1\n"
     ]
    }
   ],
   "source": [
    "print(f'\\n[INFO] Running testing data with Adaline 1...')\n",
    "# for inputs in training_data:\n",
    "for inputs in testing_data:\n",
    "    result = adaline1.predict(inputs)\n",
    "    print(f\"[INFO] \\tInput: {inputs} -> Output: {result}\")"
   ]
  },
  {
   "cell_type": "code",
   "execution_count": 11,
   "metadata": {},
   "outputs": [
    {
     "name": "stdout",
     "output_type": "stream",
     "text": [
      "\n",
      "[INFO] Running testing data with Adaline 2...\n",
      "[INFO] \tInput: [0.9694 0.6909 0.4334 3.4965] -> Output: -1\n",
      "[INFO] \tInput: [0.5427 1.3832 0.639  4.0352] -> Output: -1\n",
      "[INFO] \tInput: [ 0.6081 -0.9196  0.5925  0.1016] -> Output: 1\n",
      "[INFO] \tInput: [-0.1618  0.4694  0.203   3.0117] -> Output: -1\n",
      "[INFO] \tInput: [ 0.187  -0.2578  0.6124  1.7749] -> Output: -1\n",
      "[INFO] \tInput: [ 0.4891 -0.5276  0.4378  0.6439] -> Output: 1\n",
      "[INFO] \tInput: [0.3777 2.0149 0.7423 3.3932] -> Output: 1\n",
      "[INFO] \tInput: [ 1.1498 -0.4067  0.2469  1.5866] -> Output: 1\n",
      "[INFO] \tInput: [0.9325 1.095  1.0359 3.3591] -> Output: 1\n",
      "[INFO] \tInput: [0.506  1.3317 0.9222 3.7174] -> Output: -1\n",
      "[INFO] \tInput: [ 0.0497 -2.0656  0.6124 -0.6585] -> Output: -1\n",
      "[INFO] \tInput: [0.4004 3.5369 0.9766 5.3532] -> Output: 1\n",
      "[INFO] \tInput: [-0.1874  1.3343  0.5374  3.2189] -> Output: -1\n",
      "[INFO] \tInput: [0.506  1.3317 0.9222 3.7174] -> Output: -1\n",
      "[INFO] \tInput: [ 1.6375 -0.7911  0.7537  0.5515] -> Output: 1\n"
     ]
    }
   ],
   "source": [
    "print(f'\\n[INFO] Running testing data with Adaline 2...')\n",
    "# for inputs in training_data:\n",
    "for inputs in testing_data:\n",
    "    result = adaline2.predict(inputs)\n",
    "    print(f\"[INFO] \\tInput: {inputs} -> Output: {result}\")"
   ]
  },
  {
   "cell_type": "markdown",
   "metadata": {},
   "source": [
    "Tabela 4 - Resultados com as saídas das saída (classes) para os dados de teste (**tab_teste2.dat**):\n",
    "\n",
    "<table border=\"1\">\n",
    "\t<tr>\n",
    "\t\t<td>Amostra</td>\n",
    "\t\t<td>x1</td>\n",
    "\t\t<td>x2</td>\n",
    "\t\t<td>x3</td>\n",
    "        <td>x4</td>\n",
    "\t\t<td>y (T1)</td>\n",
    "\t\t<td>y (T2)</td>        \n",
    "\t</tr>\n",
    "\t<tr>\n",
    "\t\t<td>1</td>\n",
    "\t\t<td>0.9694</td>\n",
    "\t\t<td>0.6909</td>\n",
    "\t\t<td>0.4334</td>\n",
    "        <td>3.4965</td>\n",
    "\t\t<td>-1</td>\n",
    "\t\t<td>-1</td>\n",
    "\t</tr>\n",
    "\t<tr>\n",
    "\t\t<td>2</td>\n",
    "\t\t<td>0.5427</td>\n",
    "\t\t<td>1.3832</td>\n",
    "\t\t<td>0.639</td>\n",
    "\t\t<td>4.0352</td>\n",
    "\t\t<td>-1</td>\n",
    "        <td>-1</td>\n",
    "\t</tr>\n",
    "\t<tr>\n",
    "\t\t<td>3</td>\n",
    "\t\t<td>0.6081</td>\n",
    "\t\t<td>-0.9196</td>\n",
    "\t\t<td>0.5925</td>\n",
    "\t\t<td>0.1016</td>\n",
    "\t\t<td>1</td>\n",
    "        <td>1</td>\n",
    "    </tr>\n",
    "\t<tr>\n",
    "\t\t<td>4</td>\n",
    "\t\t<td>-0.1618</td>\n",
    "\t\t<td>0.4694</td>\n",
    "\t\t<td>0.203</td>\n",
    "\t\t<td>3.0117</td>\n",
    "\t\t<td>-1</td>\n",
    "        <td>-1</td>\n",
    "    </tr>\n",
    "\t<tr>\n",
    "\t\t<td>5</td>\n",
    "\t\t<td>0.187</td>\n",
    "\t\t<td>-0.2578</td>\n",
    "\t\t<td>0.6124</td>\n",
    "\t\t<td>1.7749</td>\n",
    "\t\t<td>-1</td>\n",
    "        <td>-1</td>\n",
    "    </tr>\n",
    "\t<tr>\n",
    "\t\t<td>6</td>\n",
    "\t\t<td>0.4891</td>\n",
    "\t\t<td>-0.5276</td>\n",
    "\t\t<td>0.4378</td>\n",
    "\t\t<td>0.6439</td>\n",
    "\t\t<td>1</td>\n",
    "        <td>1</td>\n",
    "    </tr>\n",
    "\t<tr>\n",
    "\t\t<td>7</td>\n",
    "\t\t<td>0.3777</td>\n",
    "\t\t<td>2.0149</td>\n",
    "\t\t<td>0.7423</td>\n",
    "\t\t<td>3.3932</td>\n",
    "\t\t<td>1</td>\n",
    "        <td>1</td>\n",
    "    </tr>\n",
    "\t<tr>\n",
    "\t\t<td>8</td>\n",
    "\t\t<td>1.1498</td>\n",
    "\t\t<td>-0.4067</td>\n",
    "\t\t<td>0.2469</td>\n",
    "\t\t<td>1.5866</td>\n",
    "\t\t<td>1</td>\n",
    "        <td>1</td>\n",
    "    </tr>\n",
    "\t<tr>\n",
    "\t\t<td>9</td>\n",
    "\t\t<td>0.9325</td>\n",
    "\t\t<td>1.095</td>\n",
    "\t\t<td>1.0359</td>\n",
    "\t\t<td>3.3591</td>\n",
    "\t\t<td>1</td>\n",
    "        <td>1</td>\n",
    "    </tr>\n",
    "\t<tr>\n",
    "\t\t<td>10</td>\n",
    "\t\t<td>0.506</td>\n",
    "\t\t<td>1.3317</td>\n",
    "\t\t<td>0.9222</td>\n",
    "\t\t<td>3.7174</td>\n",
    "\t\t<td>-1</td>\n",
    "        <td>-1</td>\n",
    "    </tr>\n",
    "\t<tr>\n",
    "\t\t<td>11</td>\n",
    "\t\t<td>0.0497</td>\n",
    "\t\t<td>-2.0656</td>\n",
    "\t\t<td>0.6124</td>\n",
    "\t\t<td>-0.6585</td>\n",
    "\t\t<td>-1</td>\n",
    "        <td>-1</td>\n",
    "    </tr> \n",
    "\t<tr>\n",
    "\t\t<td>12</td>\n",
    "\t\t<td>0.4004</td>\n",
    "\t\t<td>3.5369</td>\n",
    "\t\t<td>0.9766</td>\n",
    "\t\t<td>5.3532</td>\n",
    "\t\t<td>1</td>\n",
    "        <td>1</td>\n",
    "    </tr>\n",
    "\t<tr>\n",
    "\t\t<td>13</td>\n",
    "\t\t<td>-0.1874</td>\n",
    "\t\t<td>1.3343</td>\n",
    "\t\t<td>0.5374</td>\n",
    "\t\t<td>3.2189</td>\n",
    "\t\t<td>-1</td>\n",
    "        <td>-1</td>\n",
    "    </tr>\n",
    "\t<tr>\n",
    "\t\t<td>14</td>\n",
    "\t\t<td>0.506</td>\n",
    "\t\t<td>1.3317</td>\n",
    "\t\t<td>0.9222</td>\n",
    "\t\t<td>3.7174</td>\n",
    "\t\t<td>-1</td>\n",
    "        <td>-1</td>\n",
    "    </tr>\n",
    "\t<tr>\n",
    "\t\t<td>15</td>\n",
    "\t\t<td>1.6375</td>\n",
    "\t\t<td>-0.7911</td>\n",
    "\t\t<td>0.7537</td>\n",
    "\t\t<td>0.5515</td>\n",
    "\t\t<td>1</td>\n",
    "        <td>1</td>\n",
    "    </tr> \t\t\t\t\t\n",
    "</table>\n",
    "\n",
    "*Nota: os valores atuais dessa tabela se referem ao últimos testes realizados. Caso os trechos de código acima sejam executados novamente, necessita-se atualizar a tabela.*"
   ]
  },
  {
   "cell_type": "markdown",
   "metadata": {},
   "source": [
    "5. Um(a) estudante da disciplina de Redes Neurais e Aprendizado Profundo ficou empolgado(a) com o trabalho do Fisher sobre as flores Íris e resolveu propor uma versão automatizada para ele. Essa nova versão deveria ter dois módulos principais: um módulo de visão computacional e um módulo do tipo classificador neural. Caso você(s) fosse(m) esse(a) estudante, como você(s) desenvolveria(m) esse sistema? Descreva-o em detalhes. Use ilustração(ões) para valorizar o seu pré-projeto. Lembre-se que são três tipos de Íris (Virginica, Versicolor e Setosa) e que 4 parâmetros foram medidos pelo Fisher para cada uma das flores (comprimento e largura da Pétala, Comprimento e largura da Sépala)."
   ]
  },
  {
   "cell_type": "markdown",
   "metadata": {},
   "source": [
    "*Exemplo de código Python para implementar o sistema automatizado de classificação de flores Íris usando visão computacional e um classificador neural. Neste exemplo, usaremos a biblioteca TensorFlow para criar a rede neural. Certifique-se de ter o TensorFlow instalado em seu ambiente antes de executar o código. Você também precisará de outras bibliotecas como NumPy e scikit-learn. Você pode instalá-los usando o pip, se ainda não estiverem instalados:*"
   ]
  },
  {
   "cell_type": "code",
   "execution_count": 3,
   "metadata": {},
   "outputs": [],
   "source": [
    "!pip install numpy scikit-learn tensorflow"
   ]
  },
  {
   "cell_type": "code",
   "execution_count": 4,
   "metadata": {},
   "outputs": [
    {
     "data": {
      "image/png": "[encoded data removed]",
      "text/plain": [
       "<Figure size 640x480 with 1 Axes>"
      ]
     },
     "metadata": {},
     "output_type": "display_data"
    },
    {
     "name": "stdout",
     "output_type": "stream",
     "text": [
      "Epoch 1/100\n",
      "8/8 - 2s - loss: 1.0850 - accuracy: 0.2833 - 2s/epoch - 196ms/step\n",
      "Epoch 2/100\n",
      "8/8 - 0s - loss: 0.9450 - accuracy: 0.6583 - 15ms/epoch - 2ms/step\n",
      "Epoch 3/100\n",
      "8/8 - 0s - loss: 0.8243 - accuracy: 0.7917 - 16ms/epoch - 2ms/step\n",
      "Epoch 4/100\n",
      "8/8 - 0s - loss: 0.7219 - accuracy: 0.8083 - 13ms/epoch - 2ms/step\n",
      "Epoch 5/100\n",
      "8/8 - 0s - loss: 0.6329 - accuracy: 0.8083 - 14ms/epoch - 2ms/step\n",
      "Epoch 6/100\n",
      "8/8 - 0s - loss: 0.5588 - accuracy: 0.8167 - 12ms/epoch - 2ms/step\n",
      "Epoch 7/100\n",
      "8/8 - 0s - loss: 0.4987 - accuracy: 0.8167 - 22ms/epoch - 3ms/step\n",
      "Epoch 8/100\n",
      "8/8 - 0s - loss: 0.4504 - accuracy: 0.8333 - 21ms/epoch - 3ms/step\n",
      "Epoch 9/100\n",
      "8/8 - 0s - loss: 0.4110 - accuracy: 0.8417 - 15ms/epoch - 2ms/step\n",
      "Epoch 10/100\n",
      "8/8 - 0s - loss: 0.3779 - accuracy: 0.8500 - 16ms/epoch - 2ms/step\n",
      "Epoch 11/100\n",
      "8/8 - 0s - loss: 0.3523 - accuracy: 0.8500 - 18ms/epoch - 2ms/step\n",
      "Epoch 12/100\n",
      "8/8 - 0s - loss: 0.3287 - accuracy: 0.8750 - 18ms/epoch - 2ms/step\n",
      "Epoch 13/100\n",
      "8/8 - 0s - loss: 0.3086 - accuracy: 0.8833 - 17ms/epoch - 2ms/step\n",
      "Epoch 14/100\n",
      "8/8 - 0s - loss: 0.2901 - accuracy: 0.8833 - 19ms/epoch - 2ms/step\n",
      "Epoch 15/100\n",
      "8/8 - 0s - loss: 0.2740 - accuracy: 0.9000 - 14ms/epoch - 2ms/step\n",
      "Epoch 16/100\n",
      "8/8 - 0s - loss: 0.2564 - accuracy: 0.9167 - 17ms/epoch - 2ms/step\n",
      "Epoch 17/100\n",
      "8/8 - 0s - loss: 0.2449 - accuracy: 0.9333 - 24ms/epoch - 3ms/step\n",
      "Epoch 18/100\n",
      "8/8 - 0s - loss: 0.2311 - accuracy: 0.9333 - 17ms/epoch - 2ms/step\n",
      "Epoch 19/100\n",
      "8/8 - 0s - loss: 0.2190 - accuracy: 0.9500 - 14ms/epoch - 2ms/step\n",
      "Epoch 20/100\n",
      "8/8 - 0s - loss: 0.2087 - accuracy: 0.9500 - 20ms/epoch - 3ms/step\n",
      "Epoch 21/100\n",
      "8/8 - 0s - loss: 0.1969 - accuracy: 0.9583 - 19ms/epoch - 2ms/step\n",
      "Epoch 22/100\n",
      "8/8 - 0s - loss: 0.1879 - accuracy: 0.9667 - 16ms/epoch - 2ms/step\n",
      "Epoch 23/100\n",
      "8/8 - 0s - loss: 0.1767 - accuracy: 0.9667 - 14ms/epoch - 2ms/step\n",
      "Epoch 24/100\n",
      "8/8 - 0s - loss: 0.1678 - accuracy: 0.9667 - 20ms/epoch - 3ms/step\n",
      "Epoch 25/100\n",
      "8/8 - 0s - loss: 0.1593 - accuracy: 0.9667 - 36ms/epoch - 5ms/step\n",
      "Epoch 26/100\n",
      "8/8 - 0s - loss: 0.1515 - accuracy: 0.9667 - 22ms/epoch - 3ms/step\n",
      "Epoch 27/100\n",
      "8/8 - 0s - loss: 0.1442 - accuracy: 0.9667 - 17ms/epoch - 2ms/step\n",
      "Epoch 28/100\n",
      "8/8 - 0s - loss: 0.1371 - accuracy: 0.9667 - 16ms/epoch - 2ms/step\n",
      "Epoch 29/100\n",
      "8/8 - 0s - loss: 0.1314 - accuracy: 0.9667 - 27ms/epoch - 3ms/step\n",
      "Epoch 30/100\n",
      "8/8 - 0s - loss: 0.1289 - accuracy: 0.9583 - 17ms/epoch - 2ms/step\n",
      "Epoch 31/100\n",
      "8/8 - 0s - loss: 0.1201 - accuracy: 0.9583 - 15ms/epoch - 2ms/step\n",
      "Epoch 32/100\n",
      "8/8 - 0s - loss: 0.1153 - accuracy: 0.9667 - 39ms/epoch - 5ms/step\n",
      "Epoch 33/100\n",
      "8/8 - 0s - loss: 0.1114 - accuracy: 0.9583 - 14ms/epoch - 2ms/step\n",
      "Epoch 34/100\n",
      "8/8 - 0s - loss: 0.1064 - accuracy: 0.9583 - 14ms/epoch - 2ms/step\n",
      "Epoch 35/100\n",
      "8/8 - 0s - loss: 0.1031 - accuracy: 0.9667 - 16ms/epoch - 2ms/step\n",
      "Epoch 36/100\n",
      "8/8 - 0s - loss: 0.0991 - accuracy: 0.9750 - 21ms/epoch - 3ms/step\n",
      "Epoch 37/100\n",
      "8/8 - 0s - loss: 0.0964 - accuracy: 0.9583 - 17ms/epoch - 2ms/step\n",
      "Epoch 38/100\n",
      "8/8 - 0s - loss: 0.0934 - accuracy: 0.9667 - 16ms/epoch - 2ms/step\n",
      "Epoch 39/100\n",
      "8/8 - 0s - loss: 0.0910 - accuracy: 0.9750 - 24ms/epoch - 3ms/step\n",
      "Epoch 40/100\n",
      "8/8 - 0s - loss: 0.0885 - accuracy: 0.9750 - 23ms/epoch - 3ms/step\n",
      "Epoch 41/100\n",
      "8/8 - 0s - loss: 0.0868 - accuracy: 0.9583 - 19ms/epoch - 2ms/step\n",
      "Epoch 42/100\n",
      "8/8 - 0s - loss: 0.0852 - accuracy: 0.9667 - 18ms/epoch - 2ms/step\n",
      "Epoch 43/100\n",
      "8/8 - 0s - loss: 0.0814 - accuracy: 0.9750 - 20ms/epoch - 3ms/step\n",
      "Epoch 44/100\n",
      "8/8 - 0s - loss: 0.0792 - accuracy: 0.9750 - 23ms/epoch - 3ms/step\n",
      "Epoch 45/100\n",
      "8/8 - 0s - loss: 0.0776 - accuracy: 0.9750 - 14ms/epoch - 2ms/step\n",
      "Epoch 46/100\n",
      "8/8 - 0s - loss: 0.0759 - accuracy: 0.9750 - 17ms/epoch - 2ms/step\n",
      "Epoch 47/100\n",
      "8/8 - 0s - loss: 0.0736 - accuracy: 0.9833 - 15ms/epoch - 2ms/step\n",
      "Epoch 48/100\n",
      "8/8 - 0s - loss: 0.0744 - accuracy: 0.9750 - 19ms/epoch - 2ms/step\n",
      "Epoch 49/100\n",
      "8/8 - 0s - loss: 0.0751 - accuracy: 0.9667 - 19ms/epoch - 2ms/step\n",
      "Epoch 50/100\n",
      "8/8 - 0s - loss: 0.0700 - accuracy: 0.9750 - 18ms/epoch - 2ms/step\n",
      "Epoch 51/100\n",
      "8/8 - 0s - loss: 0.0690 - accuracy: 0.9750 - 15ms/epoch - 2ms/step\n",
      "Epoch 52/100\n",
      "8/8 - 0s - loss: 0.0677 - accuracy: 0.9750 - 17ms/epoch - 2ms/step\n",
      "Epoch 53/100\n",
      "8/8 - 0s - loss: 0.0691 - accuracy: 0.9750 - 18ms/epoch - 2ms/step\n",
      "Epoch 54/100\n",
      "8/8 - 0s - loss: 0.0679 - accuracy: 0.9667 - 16ms/epoch - 2ms/step\n",
      "Epoch 55/100\n",
      "8/8 - 0s - loss: 0.0648 - accuracy: 0.9750 - 23ms/epoch - 3ms/step\n",
      "Epoch 56/100\n",
      "8/8 - 0s - loss: 0.0651 - accuracy: 0.9833 - 20ms/epoch - 3ms/step\n",
      "Epoch 57/100\n",
      "8/8 - 0s - loss: 0.0624 - accuracy: 0.9750 - 19ms/epoch - 2ms/step\n",
      "Epoch 58/100\n",
      "8/8 - 0s - loss: 0.0617 - accuracy: 0.9833 - 17ms/epoch - 2ms/step\n",
      "Epoch 59/100\n",
      "8/8 - 0s - loss: 0.0622 - accuracy: 0.9833 - 19ms/epoch - 2ms/step\n",
      "Epoch 60/100\n",
      "8/8 - 0s - loss: 0.0605 - accuracy: 0.9750 - 14ms/epoch - 2ms/step\n",
      "Epoch 61/100\n",
      "8/8 - 0s - loss: 0.0611 - accuracy: 0.9750 - 18ms/epoch - 2ms/step\n",
      "Epoch 62/100\n",
      "8/8 - 0s - loss: 0.0586 - accuracy: 0.9750 - 14ms/epoch - 2ms/step\n",
      "Epoch 63/100\n",
      "8/8 - 0s - loss: 0.0585 - accuracy: 0.9750 - 20ms/epoch - 3ms/step\n",
      "Epoch 64/100\n",
      "8/8 - 0s - loss: 0.0586 - accuracy: 0.9750 - 19ms/epoch - 2ms/step\n",
      "Epoch 65/100\n",
      "8/8 - 0s - loss: 0.0576 - accuracy: 0.9750 - 22ms/epoch - 3ms/step\n",
      "Epoch 66/100\n",
      "8/8 - 0s - loss: 0.0588 - accuracy: 0.9750 - 16ms/epoch - 2ms/step\n",
      "Epoch 67/100\n",
      "8/8 - 0s - loss: 0.0562 - accuracy: 0.9833 - 19ms/epoch - 2ms/step\n",
      "Epoch 68/100\n",
      "8/8 - 0s - loss: 0.0557 - accuracy: 0.9750 - 12ms/epoch - 2ms/step\n",
      "Epoch 69/100\n",
      "8/8 - 0s - loss: 0.0553 - accuracy: 0.9750 - 17ms/epoch - 2ms/step\n",
      "Epoch 70/100\n",
      "8/8 - 0s - loss: 0.0554 - accuracy: 0.9750 - 15ms/epoch - 2ms/step\n",
      "Epoch 71/100\n",
      "8/8 - 0s - loss: 0.0546 - accuracy: 0.9833 - 17ms/epoch - 2ms/step\n",
      "Epoch 72/100\n",
      "8/8 - 0s - loss: 0.0537 - accuracy: 0.9833 - 17ms/epoch - 2ms/step\n",
      "Epoch 73/100\n",
      "8/8 - 0s - loss: 0.0557 - accuracy: 0.9750 - 14ms/epoch - 2ms/step\n",
      "Epoch 74/100\n",
      "8/8 - 0s - loss: 0.0531 - accuracy: 0.9750 - 24ms/epoch - 3ms/step\n",
      "Epoch 75/100\n",
      "8/8 - 0s - loss: 0.0539 - accuracy: 0.9750 - 19ms/epoch - 2ms/step\n",
      "Epoch 76/100\n",
      "8/8 - 0s - loss: 0.0527 - accuracy: 0.9750 - 17ms/epoch - 2ms/step\n",
      "Epoch 77/100\n",
      "8/8 - 0s - loss: 0.0530 - accuracy: 0.9750 - 15ms/epoch - 2ms/step\n",
      "Epoch 78/100\n",
      "8/8 - 0s - loss: 0.0520 - accuracy: 0.9833 - 16ms/epoch - 2ms/step\n",
      "Epoch 79/100\n",
      "8/8 - 0s - loss: 0.0516 - accuracy: 0.9750 - 17ms/epoch - 2ms/step\n",
      "Epoch 80/100\n",
      "8/8 - 0s - loss: 0.0518 - accuracy: 0.9750 - 17ms/epoch - 2ms/step\n",
      "Epoch 81/100\n",
      "8/8 - 0s - loss: 0.0513 - accuracy: 0.9750 - 20ms/epoch - 3ms/step\n",
      "Epoch 82/100\n",
      "8/8 - 0s - loss: 0.0499 - accuracy: 0.9833 - 23ms/epoch - 3ms/step\n",
      "Epoch 83/100\n",
      "8/8 - 0s - loss: 0.0551 - accuracy: 0.9833 - 12ms/epoch - 2ms/step\n",
      "Epoch 84/100\n",
      "8/8 - 0s - loss: 0.0499 - accuracy: 0.9833 - 20ms/epoch - 3ms/step\n",
      "Epoch 85/100\n",
      "8/8 - 0s - loss: 0.0513 - accuracy: 0.9750 - 21ms/epoch - 3ms/step\n",
      "Epoch 86/100\n",
      "8/8 - 0s - loss: 0.0489 - accuracy: 0.9750 - 17ms/epoch - 2ms/step\n",
      "Epoch 87/100\n",
      "8/8 - 0s - loss: 0.0480 - accuracy: 0.9833 - 15ms/epoch - 2ms/step\n",
      "Epoch 88/100\n",
      "8/8 - 0s - loss: 0.0510 - accuracy: 0.9833 - 16ms/epoch - 2ms/step\n",
      "Epoch 89/100\n",
      "8/8 - 0s - loss: 0.0520 - accuracy: 0.9833 - 17ms/epoch - 2ms/step\n",
      "Epoch 90/100\n",
      "8/8 - 0s - loss: 0.0496 - accuracy: 0.9833 - 17ms/epoch - 2ms/step\n",
      "Epoch 91/100\n",
      "8/8 - 0s - loss: 0.0471 - accuracy: 0.9833 - 14ms/epoch - 2ms/step\n",
      "Epoch 92/100\n",
      "8/8 - 0s - loss: 0.0469 - accuracy: 0.9833 - 22ms/epoch - 3ms/step\n",
      "Epoch 93/100\n",
      "8/8 - 0s - loss: 0.0476 - accuracy: 0.9833 - 14ms/epoch - 2ms/step\n",
      "Epoch 94/100\n",
      "8/8 - 0s - loss: 0.0472 - accuracy: 0.9833 - 18ms/epoch - 2ms/step\n",
      "Epoch 95/100\n",
      "8/8 - 0s - loss: 0.0461 - accuracy: 0.9833 - 22ms/epoch - 3ms/step\n",
      "Epoch 96/100\n",
      "8/8 - 0s - loss: 0.0457 - accuracy: 0.9833 - 22ms/epoch - 3ms/step\n",
      "Epoch 97/100\n",
      "8/8 - 0s - loss: 0.0458 - accuracy: 0.9833 - 15ms/epoch - 2ms/step\n",
      "Epoch 98/100\n",
      "8/8 - 0s - loss: 0.0467 - accuracy: 0.9833 - 18ms/epoch - 2ms/step\n",
      "Epoch 99/100\n",
      "8/8 - 0s - loss: 0.0468 - accuracy: 0.9833 - 15ms/epoch - 2ms/step\n",
      "Epoch 100/100\n",
      "8/8 - 0s - loss: 0.0462 - accuracy: 0.9833 - 15ms/epoch - 2ms/step\n"
     ]
    },
    {
     "data": {
      "image/png": "[encoded data removed]",
      "text/plain": [
       "<Figure size 640x480 with 1 Axes>"
      ]
     },
     "metadata": {},
     "output_type": "display_data"
    },
    {
     "name": "stdout",
     "output_type": "stream",
     "text": [
      "1/1 - 0s - loss: 0.0216 - accuracy: 1.0000 - 178ms/epoch - 178ms/step\n",
      "Acurácia no conjunto de teste: 100.00%\n",
      "1/1 [==============================] - 0s 101ms/step\n",
      "A flor pertence à classe: Setosa\n",
      "1/1 [==============================] - 0s 33ms/step\n"
     ]
    },
    {
     "data": {
      "image/png": "[encoded data removed]",
      "text/plain": [
       "<Figure size 800x600 with 2 Axes>"
      ]
     },
     "metadata": {},
     "output_type": "display_data"
    },
    {
     "name": "stdout",
     "output_type": "stream",
     "text": [
      "              precision    recall  f1-score   support\n",
      "\n",
      "      Setosa       1.00      1.00      1.00        10\n",
      "  Versicolor       1.00      1.00      1.00         9\n",
      "   Virginica       1.00      1.00      1.00        11\n",
      "\n",
      "    accuracy                           1.00        30\n",
      "   macro avg       1.00      1.00      1.00        30\n",
      "weighted avg       1.00      1.00      1.00        30\n",
      "\n"
     ]
    },
    {
     "data": {
      "image/png": "[encoded data removed]",
      "text/plain": [
       "<Figure size 800x600 with 1 Axes>"
      ]
     },
     "metadata": {},
     "output_type": "display_data"
    }
   ],
   "source": [
    "import numpy as np\n",
    "import tensorflow as tf\n",
    "from sklearn import datasets\n",
    "from sklearn.model_selection import train_test_split\n",
    "from sklearn.preprocessing import StandardScaler\n",
    "from sklearn.metrics import confusion_matrix, classification_report, roc_curve, auc\n",
    "import matplotlib.pyplot as plt\n",
    "\n",
    "# Passo 1: Carregar e preparar o conjunto de dados\n",
    "iris = datasets.load_iris()\n",
    "X = iris.data  # Parâmetros de entrada\n",
    "y = iris.target  # Rótulos das classes\n",
    "\n",
    "# Dividir o conjunto de dados em treinamento e teste\n",
    "X_train, X_test, y_train, y_test = train_test_split(X, y, test_size=0.2, random_state=42)\n",
    "\n",
    "# Padronizar os dados (importante para redes neurais)\n",
    "scaler = StandardScaler()\n",
    "X_train = scaler.fit_transform(X_train)\n",
    "X_test = scaler.transform(X_test)\n",
    "\n",
    "# Visualização dos dados - Gráfico de dispersão 2D\n",
    "plt.scatter(X_train[:, 0], X_train[:, 1], c=y_train)\n",
    "plt.xlabel('Comprimento da Sépala')\n",
    "plt.ylabel('Largura da Sépala')\n",
    "plt.title('Visualização dos Dados Íris')\n",
    "plt.show()\n",
    "\n",
    "# Passo 2: Criar o modelo de rede neural\n",
    "model = tf.keras.Sequential([\n",
    "    tf.keras.layers.Input(shape=(4,)),\n",
    "    tf.keras.layers.Dense(64, activation='relu'),\n",
    "    tf.keras.layers.Dense(32, activation='relu'),\n",
    "    tf.keras.layers.Dense(3, activation='softmax')\n",
    "])\n",
    "\n",
    "# Compilar o modelo\n",
    "model.compile(optimizer='adam', loss='sparse_categorical_crossentropy', metrics=['accuracy'])\n",
    "\n",
    "# Passo 3: Treinar o modelo\n",
    "history = model.fit(X_train, y_train, epochs=100, batch_size=16, verbose=2)\n",
    "\n",
    "# Visualizar a curva de aprendizado\n",
    "plt.plot(history.history['accuracy'])\n",
    "plt.xlabel('Época')\n",
    "plt.ylabel('Acurácia')\n",
    "plt.title('Curva de Aprendizado')\n",
    "plt.show()\n",
    "\n",
    "# Avaliar o modelo no conjunto de teste\n",
    "test_loss, test_accuracy = model.evaluate(X_test, y_test, verbose=2)\n",
    "print(f'Acurácia no conjunto de teste: {test_accuracy * 100:.2f}%')\n",
    "\n",
    "# Realizar uma previsão\n",
    "sample = np.array([[5.1, 3.5, 1.4, 0.2]])  # Exemplo de parâmetros de uma flor Íris\n",
    "sample = scaler.transform(sample)  # Padronizar os dados\n",
    "predicted_class = np.argmax(model.predict(sample))\n",
    "classes = ['Setosa', 'Versicolor', 'Virginica']\n",
    "print(f'A flor pertence à classe: {classes[predicted_class]}')\n",
    "\n",
    "# Matriz de Confusão\n",
    "y_pred = model.predict(X_test)\n",
    "y_pred_classes = np.argmax(y_pred, axis=1)\n",
    "confusion_mtx = confusion_matrix(y_test, y_pred_classes)\n",
    "\n",
    "# Visualizar a matriz de confusão\n",
    "plt.figure(figsize=(8, 6))\n",
    "plt.imshow(confusion_mtx, interpolation='nearest', cmap=plt.cm.Blues)\n",
    "plt.title('Matriz de Confusão')\n",
    "plt.colorbar()\n",
    "tick_marks = np.arange(len(classes))\n",
    "plt.xticks(tick_marks, classes, rotation=45)\n",
    "plt.yticks(tick_marks, classes)\n",
    "plt.xlabel('Predito')\n",
    "plt.ylabel('Real')\n",
    "plt.show()\n",
    "\n",
    "# Relatório de Classificação\n",
    "print(classification_report(y_test, y_pred_classes, target_names=classes))\n",
    "\n",
    "# Curvas ROC\n",
    "fpr = dict()\n",
    "tpr = dict()\n",
    "roc_auc = dict()\n",
    "for i in range(len(classes)):\n",
    "    fpr[i], tpr[i], _ = roc_curve(y_test, y_pred[:, i], pos_label=i)\n",
    "    roc_auc[i] = auc(fpr[i], tpr[i])\n",
    "\n",
    "# Visualizar as curvas ROC\n",
    "plt.figure(figsize=(8, 6))\n",
    "for i in range(len(classes)):\n",
    "    plt.plot(fpr[i], tpr[i], lw=2, label=f'Classe {i} (AUC = {roc_auc[i]:.2f})')\n",
    "plt.plot([0, 1], [0, 1], color='navy', lw=2, linestyle='--')\n",
    "plt.xlim([0.0, 1.0])\n",
    "plt.ylim([0.0, 1.05])\n",
    "plt.xlabel('Taxa de Falso Positivo')\n",
    "plt.ylabel('Taxa de Verdadeiro Positivo')\n",
    "plt.title('Curvas ROC para as Classes')\n",
    "plt.legend(loc='lower right')\n",
    "plt.show()"
   ]
  },
  {
   "cell_type": "markdown",
   "metadata": {},
   "source": [
    "6. Considere a base de dados encontrada em Irisdat.xlsx. <br>Daí, pede-se:<br>\n",
    "a) Treinar um PMC que classifique observações de flores íris em 3 espécies (Setosa, Versicolor e Virginica) usando como entradas as características SEPALLENGTH (SL), SEPALWIDTH (SW), PETALLENGTH (PL) e PETALWIDTH (PW). "
   ]
  },
  {
   "cell_type": "code",
   "execution_count": 5,
   "metadata": {},
   "outputs": [
    {
     "name": "stdout",
     "output_type": "stream",
     "text": [
      "    SL   SW   PL   PW      TYPE\n",
      "0  5.0  3.3  1.4  0.2    SETOSA\n",
      "1  6.4  2.8  5.6  2.2  VIRGINIC\n",
      "2  6.5  2.8  4.6  1.5  VERSICOL\n",
      "3  6.7  3.1  5.6  2.4  VIRGINIC\n",
      "4  6.3  2.8  5.1  1.5  VIRGINIC\n",
      "Relatório de Classificação:\n",
      "               precision    recall  f1-score   support\n",
      "\n",
      "      SETOSA       1.00      1.00      1.00         9\n",
      "    VERSICOL       0.82      0.90      0.86        10\n",
      "    VIRGINIC       0.89      0.80      0.84        10\n",
      "\n",
      "    accuracy                           0.90        29\n",
      "   macro avg       0.90      0.90      0.90        29\n",
      "weighted avg       0.90      0.90      0.90        29\n",
      "\n"
     ]
    }
   ],
   "source": [
    "import pandas as pd\n",
    "import numpy as np\n",
    "from sklearn.model_selection import train_test_split\n",
    "from sklearn.preprocessing import StandardScaler\n",
    "from sklearn.neural_network import MLPClassifier\n",
    "from sklearn.metrics import classification_report\n",
    "from sklearn.linear_model import LinearRegression\n",
    "import os\n",
    "\n",
    "#print(os.getcwd())\n",
    "\n",
    "# current_directory = os.path.dirname(os.path.abspath(__file__))\n",
    "# os.path.abspath('')\n",
    "# file_path = os.path.join(current_directory, \"Irisdat.xlsx\")\n",
    "file_path = os.path.abspath(\"Irisdat.xlsx\")\n",
    "data = pd.read_excel(file_path)\n",
    "\n",
    "# # Carregar os dados do arquivo Excel\n",
    "# data = pd.read_excel(\"Irisdat.xls\")\n",
    "\n",
    "# # Exibir as primeiras linhas do conjunto de dados para compreendê-lo\n",
    "print(data.head())\n",
    "\n",
    "# Separar as características (entradas) e os rótulos (espécies)\n",
    "X = data[[\"SL\", \"SW\", \"PL\", \"PW\"]]\n",
    "y = data[\"TYPE\"]\n",
    "\n",
    "# Dividir os dados em conjuntos de treinamento e teste (80% para treinamento, 20% para teste)\n",
    "X_train, X_test, y_train, y_test = train_test_split(X, y, test_size=0.2, random_state=42)\n",
    "\n",
    "# Padronizar os dados (média 0, desvio padrão 1) usando o StandardScaler original\n",
    "scaler = StandardScaler()\n",
    "X_train = scaler.fit_transform(X_train)\n",
    "X_test = scaler.transform(X_test)\n",
    "\n",
    "# Treinar um Perceptron Multicamadas (PMC) para classificar as espécies\n",
    "mlp = MLPClassifier(hidden_layer_sizes=(8, 8), max_iter=1000, random_state=42)\n",
    "mlp.fit(X_train, y_train)\n",
    "\n",
    "# Avaliar o modelo PMC\n",
    "y_pred = mlp.predict(X_test)\n",
    "print(\"Relatório de Classificação:\\n\", classification_report(y_test, y_pred))"
   ]
  },
  {
   "cell_type": "markdown",
   "metadata": {},
   "source": [
    "b) Estime SL a partir de SW, PL, PW."
   ]
  },
  {
   "cell_type": "code",
   "execution_count": 10,
   "metadata": {},
   "outputs": [
    {
     "name": "stdout",
     "output_type": "stream",
     "text": [
      "\n",
      "Resultado das métricas de desepenho do modelo de regressão:\n",
      "\tErro quadrático médio (MSE): 0.09470979693558303\n",
      "\tCoeficiente de determinação (R^2): 0.8753272301170403\n",
      "\n",
      "Exemplo de estimação de SL, a partir de SW, PL e PW:\n",
      "\tEstimativa de SL: 5.090455067235911.\n"
     ]
    },
    {
     "name": "stderr",
     "output_type": "stream",
     "text": [
      "c:\\Users\\tecnoind\\AppData\\Local\\Programs\\Python\\Python311\\Lib\\site-packages\\sklearn\\base.py:439: UserWarning: X does not have valid feature names, but StandardScaler was fitted with feature names\n",
      "  warnings.warn(\n"
     ]
    }
   ],
   "source": [
    "from sklearn.metrics import mean_squared_error, r2_score\n",
    "\n",
    "# Treinar um modelo de regressão linear para estimar SL com base em SW, PL e PW\n",
    "X_reg = data[[\"SW\", \"PL\", \"PW\"]]\n",
    "y_reg = data[\"SL\"]\n",
    "\n",
    "# Padronizar os dados para o modelo de regressão linear com base em SW, PL e PW\n",
    "scaler_reg = StandardScaler()\n",
    "X_reg = scaler_reg.fit_transform(X_reg)\n",
    "\n",
    "# Divide os dados em conjunto de treino e teste (80% para treino, 20% para teste)\n",
    "X_train_reg, X_test_reg, y_train_reg, y_test_reg = train_test_split(X_reg, y_reg, test_size=0.2, random_state=42)\n",
    "\n",
    "reg = LinearRegression()\n",
    "reg.fit(X_train_reg, y_train_reg)\n",
    "\n",
    "# Fazer previsões usando o conjunto de teste\n",
    "previsoes_reg = reg.predict(X_test_reg)\n",
    "\n",
    "# Calcula métricas de desempenho do modelo de regressão\n",
    "mse = mean_squared_error(y_test_reg, previsoes_reg)\n",
    "r2 = r2_score(y_test_reg, previsoes_reg)\n",
    "\n",
    "print('\\nResultado das métricas de desepenho do modelo de regressão:')\n",
    "print('\\tErro quadrático médio (MSE):', mse)\n",
    "print('\\tCoeficiente de determinação (R^2):', r2)\n",
    "\n",
    "print('\\nExemplo de estimação de SL, a partir de SW, PL e PW:')\n",
    "# Estimar SL a partir de SW, PL e PW\n",
    "input_data = np.array([[3.5, 1.5, 0.2]])  # Substitua com os valores de SW, PL e PW que deseja estimar SL\n",
    "scaled_input_data = scaler_reg.transform(input_data)\n",
    "estimated_SL = reg.predict(scaled_input_data)\n",
    "print(f\"\\tEstimativa de SL: {estimated_SL[0]}.\")"
   ]
  },
  {
   "cell_type": "markdown",
   "metadata": {},
   "source": [
    "*O erro quadrático médio (MSE) de aproximadamente 0.0947 indica que o modelo tem uma precisão razoável na estimativa de SL com base nas outras características.*\n",
    "\n",
    "*Além disso, o coeficiente de determinação (R²) de aproximadamente 0.8753 sugere que o modelo explica cerca de 87,53% da variabilidade em SL usando as características SW, PL e PW. Quanto mais próximo de 1 for o valor de R², melhor o modelo se ajusta aos dados.*\n",
    "\n",
    "*Para SW = 3.5, PL = 1.5 e PW = 0.2, o valor estimado para SL foi igual a 5.090455067235911.*"
   ]
  },
  {
   "cell_type": "markdown",
   "metadata": {},
   "source": [
    "7. Considere a base de dados encontrada em engines.xlsx, em que ‘Fuel rate’ e ‘Speed’ são variáveis de entrada e ‘Torque’ e ‘Nitrous Oxide Emissions (NOE)’ são as variáveis de saída, respectivamente. Desenvolva três regressores. Um deles deve estimar conjuntamente o ‘Torque’ e o NOE. Já os outros dois devem estimar essas saídas separadamente (i.e. um estimará o Torque e o outro o NOE). Compare o desempenho das duas estratégias apontando qual delas apresenta uma maior capacidade de generalização."
   ]
  },
  {
   "cell_type": "code",
   "execution_count": 11,
   "metadata": {},
   "outputs": [
    {
     "name": "stdout",
     "output_type": "stream",
     "text": [
      "\n",
      "Desempenho dos modelos:\n",
      "\tMSE para regressor 1: 10152.975156644128\n",
      "\tMSE para regressor 2 (torque): 459.62327720999474\n",
      "\tMSE para regressor 3 (NOE): 19090.223831557134\n"
     ]
    }
   ],
   "source": [
    "import pandas as pd\n",
    "import numpy as np\n",
    "from sklearn.model_selection import train_test_split\n",
    "from sklearn.preprocessing import StandardScaler\n",
    "from sklearn.neural_network import MLPRegressor\n",
    "from sklearn.model_selection import cross_val_score\n",
    "from sklearn.metrics import mean_squared_error\n",
    "from sklearn.metrics import make_scorer\n",
    "import os\n",
    "\n",
    "# print(os.getcwd())\n",
    "\n",
    "# Carregar os dados do arquivo Excel\n",
    "# current_directory = os.path.dirname(os.path.abspath(__file__))\n",
    "# file_path = os.path.join(current_directory, \"engines.xlsx\")\n",
    "file_path = os.path.abspath('engines.xlsx')\n",
    "data = pd.read_excel(file_path)\n",
    "\n",
    "# Separar as características de entrada (X) e as variáveis de saída (Y)\n",
    "X = data[[\"fuel rate\", \"speed\"]]\n",
    "Y = data[[\"torque\", \"nitrous oxide emissions (NOE)\"]]\n",
    "\n",
    "# Dividir os dados em conjuntos de treinamento e teste\n",
    "X_train, X_test, Y_train, Y_test = train_test_split(X, Y, test_size=0.2, random_state=42)\n",
    "\n",
    "# Padronizar os dados (média 0, desvio padrão 1)\n",
    "scaler = StandardScaler()\n",
    "X_train = scaler.fit_transform(X_train)\n",
    "X_test = scaler.transform(X_test)\n",
    "\n",
    "### ---------------------------------------------------------------------------------------------\n",
    "### PRIMEIRO MODELO\n",
    "### ---------------------------------------------------------------------------------------------\n",
    "\n",
    "# Treinar o primeiro regressor para estimar \"torque\" e \"NOE\"\n",
    "regressor1 = MLPRegressor(hidden_layer_sizes=(8, 8), max_iter=10000, random_state=42)\n",
    "regressor1.fit(X_train, Y_train)\n",
    "\n",
    "# Fazer previsões usando o primeiro regressor\n",
    "predictions1 = regressor1.predict(X_test)\n",
    "\n",
    "print('\\nDesempenho dos modelos:')\n",
    "\n",
    "# Avaliar o desempenho do primeiro regressor (por exemplo, com MSE)\n",
    "mse1 = mean_squared_error(Y_test, predictions1)\n",
    "print(\"\\tMSE para regressor 1:\", mse1)\n",
    "\n",
    "### ---------------------------------------------------------------------------------------------\n",
    "### SEGUNDO MODELO\n",
    "### ---------------------------------------------------------------------------------------------\n",
    "\n",
    "# Treinar o segundo regressor para estimar somente \"torque\"\n",
    "Y_train_torque = Y_train[\"torque\"]\n",
    "regressor2 = MLPRegressor(hidden_layer_sizes=(8, 8), max_iter=10000, random_state=42)\n",
    "regressor2.fit(X_train, Y_train_torque)\n",
    "\n",
    "# Fazer previsões usando o segundo regressor\n",
    "predictions2 = regressor2.predict(X_test)\n",
    "\n",
    "# Avaliar o desempenho do segundo regressor (por exemplo, com MSE)\n",
    "mse2 = mean_squared_error(Y_test[\"torque\"], predictions2)\n",
    "print(\"\\tMSE para regressor 2 (torque):\", mse2)\n",
    "\n",
    "### ---------------------------------------------------------------------------------------------\n",
    "### TERCEIRO MODELO\n",
    "### ---------------------------------------------------------------------------------------------\n",
    "\n",
    "# Treinar o terceiro regressor para estimar somente \"NOE\"\n",
    "Y_train_noe = Y_train[\"nitrous oxide emissions (NOE)\"]\n",
    "regressor3 = MLPRegressor(hidden_layer_sizes=(8, 8), max_iter=10000, random_state=42)\n",
    "regressor3.fit(X_train, Y_train_noe)\n",
    "\n",
    "# Fazer previsões usando o terceiro regressor\n",
    "predictions3 = regressor3.predict(X_test)\n",
    "\n",
    "# Avaliar o desempenho do terceiro regressor (por exemplo, com MSE)\n",
    "mse3 = mean_squared_error(Y_test[\"nitrous oxide emissions (NOE)\"], predictions3)\n",
    "print(\"\\tMSE para regressor 3 (NOE):\", mse3)"
   ]
  },
  {
   "cell_type": "code",
   "execution_count": 12,
   "metadata": {},
   "outputs": [
    {
     "name": "stdout",
     "output_type": "stream",
     "text": [
      "\n",
      "Desempenho dos modelos com base na validação cruzada:\n",
      "\tRegressor 1 (torque e NOE) - MSE Médio: 66417.2675522822 Desvio Padrão: 45149.659829828575\n",
      "\tRegressor 2 (somente torque) - MSE Médio: 2474.250283230132 Desvio Padrão: 1172.2613093811758\n",
      "\tRegressor 3 (somente NOE) - MSE Médio: 143385.97775100663 Desvio Padrão: 80364.00570653014\n"
     ]
    }
   ],
   "source": [
    "### ---------------------------------------------------------------------------------------------\n",
    "### AVALIANDO MELHOR A CAPACIDADE DE GENERALIZAÇÃO DOS REGRESSORES\n",
    "### ---------------------------------------------------------------------------------------------\n",
    "\n",
    "def custom_mse(y_true, y_pred):\n",
    "    return mean_squared_error(y_true, y_pred)\n",
    "\n",
    "# Validação cruzada com MSE personalizado\n",
    "mse_scorer = make_scorer(custom_mse, greater_is_better=False)\n",
    "\n",
    "# Regressor 1 (torque e NOE)\n",
    "scores1 = -cross_val_score(regressor1, X, Y, cv=5, scoring=mse_scorer)\n",
    "mean_score1 = scores1.mean()\n",
    "std_score1 = scores1.std()\n",
    "\n",
    "# Regressor 2 (somente torque)\n",
    "scores2 = -cross_val_score(regressor2, X, Y[\"torque\"], cv=5, scoring=mse_scorer)\n",
    "mean_score2 = scores2.mean()\n",
    "std_score2 = scores2.std()\n",
    "\n",
    "# Regressor 3 (somente NOE)\n",
    "scores3 = -cross_val_score(regressor3, X, Y[\"nitrous oxide emissions (NOE)\"], cv=5, scoring=mse_scorer)\n",
    "mean_score3 = scores3.mean()\n",
    "std_score3 = scores3.std()\n",
    "\n",
    "print('\\nDesempenho dos modelos com base na validação cruzada:')\n",
    "print(\"\\tRegressor 1 (torque e NOE) - MSE Médio:\", mean_score1, \"Desvio Padrão:\", std_score1)\n",
    "print(\"\\tRegressor 2 (somente torque) - MSE Médio:\", mean_score2, \"Desvio Padrão:\", std_score2)\n",
    "print(\"\\tRegressor 3 (somente NOE) - MSE Médio:\", mean_score3, \"Desvio Padrão:\", std_score3)"
   ]
  },
  {
   "cell_type": "markdown",
   "metadata": {},
   "source": [
    "8. Valendo-se da base de dados reais referente ao Volume de Vendas de Passagens (VVP) de uma companhia aérea norte-americana que se encontra no arquivo vvp.xlsx, pede-se: 1) Desenvolver um previsor neural que receba como entradas os VVPs registrados nos instantes k-1 e k-12 (i.e. VVP(k-1) e VVP(k-12)) e que disponibilize na saída o VVP no instante corrente k (i.e. VVP(k)). O previsor deverá realizar previsões recursivas de 1 a 12 passos à frente (i.e., de um a doze meses à frente); 2) De posse da base de dados, remova a tendência linear presente na base de dados original. Desse modo, você conhecerá a série destendenciada e a tendência linear. Para a primeira série, desenvolva um previsor neural que receba como entradas os VVPs registrados nos instantes k-1 e k-12 (i.e. VVP(k-1) e VVP(k-12)) e que disponibilize na saída o VVP no instante corrente k (i.e. VVP(k)). O previsor deverá realizar previsões recursivas de 1 a 12 passos à frente (i.e., de um a doze meses à frente). Para a segunda (i.e., a tendência linear), preveja linearmente os próximos dozes pontos. Em seguida, some ponto a ponto as duas previsões e compare o desempenho dessa abordagem com a anterior apontando qual delas apresenta uma maior capacidade de generalização."
   ]
  },
  {
   "cell_type": "code",
   "execution_count": 26,
   "metadata": {},
   "outputs": [
    {
     "name": "stdout",
     "output_type": "stream",
     "text": [
      "[[112. 118. 132. 129. 121. 135. 148. 148. 136. 119. 104. 118.]\n",
      " [118. 132. 129. 121. 135. 148. 148. 136. 119. 104. 118. 115.]\n",
      " [132. 129. 121. 135. 148. 148. 136. 119. 104. 118. 115. 126.]\n",
      " [129. 121. 135. 148. 148. 136. 119. 104. 118. 115. 126. 141.]\n",
      " [121. 135. 148. 148. 136. 119. 104. 118. 115. 126. 141. 135.]\n",
      " [135. 148. 148. 136. 119. 104. 118. 115. 126. 141. 135. 125.]]\n",
      "[115. 126. 141. 135. 125.]\n"
     ]
    },
    {
     "data": {
      "image/png": "[encoded data removed]",
      "text/plain": [
       "<Figure size 640x480 with 1 Axes>"
      ]
     },
     "metadata": {},
     "output_type": "display_data"
    }
   ],
   "source": [
    "# Multilayer Perceptron to Predict International Airline Passengers (t+1, given t, t-1, t-2)\n",
    "import numpy as np\n",
    "import matplotlib.pyplot as plt\n",
    "from pandas import read_csv\n",
    "import math\n",
    "import os\n",
    "import tensorflow as tf\n",
    "#from tf.keras.models import Sequential\n",
    "#from tf.keras.layers import Dense\n",
    "\n",
    "# Convert an array of values into a dataset matrix\n",
    "def create_dataset(dataset, look_back=1):\n",
    "\tdataX, dataY = [], []\n",
    "\tfor i in range(len(dataset)-look_back-1):\n",
    "\t\ta = dataset[i:(i+look_back), 0]\n",
    "\t\tdataX.append(a)\n",
    "\t\tdataY.append(dataset[i + look_back, 0])\n",
    "\treturn np.array(dataX), np.array(dataY)\n",
    "\n",
    "# Load the dataset\n",
    "file_path = os.path.abspath('vvp.csv')\n",
    "\n",
    "dataframe = read_csv(file_path, usecols=[1], engine='python')\n",
    "dataset = dataframe.values\n",
    "dataset = dataset.astype('float32')\n",
    "\n",
    "plt.plot(dataset)\n",
    "plt.show\n",
    "\n",
    "# Split into train and test sets\n",
    "train_size = int(len(dataset) * 0.67)\n",
    "test_size = len(dataset) - train_size\n",
    "train, test = dataset[0:train_size,:], dataset[train_size:len(dataset),:]\n",
    "\n",
    "# Reshape dataset\n",
    "look_back = 12\n",
    "trainX, trainY = create_dataset(train, look_back)\n",
    "testX, testY = create_dataset(test, look_back)\n",
    "print(f'{trainX[:6]}')\n",
    "print(f'{trainY[:5]}')\n",
    "\n",
    "# Create and fit Multilayer Perceptron model\n",
    "# model = tf.keras.models.Sequential()\n",
    "\n",
    "# \n",
    "# model.add(tf.keras.layers.Dense(12, input_shape=(look_back,), activation='relu'))\n",
    "# model.add(tf.keras.layers.Dense(8, activation='relu'))\n",
    "# model.add(tf.keras.layers.Dense(1))\n",
    "# model.compile(loss='mean_squared_error', optimizer='adam')\n",
    "# model.fit(trainX, trainY, epochs=400, batch_size=2, verbose=2)\n",
    "\n",
    "# Estimate model performance\n",
    "# trainScore = model.evaluate(trainX, trainY, verbose=0)\n",
    "# print('Train Score: %.2f MSE (%.2f RMSE)' % (trainScore, math.sqrt(trainScore)))\n",
    "# testScore = model.evaluate(testX, testY, verbose=0)\n",
    "# print('Test Score: %.2f MSE (%.2f RMSE)' % (testScore, math.sqrt(testScore)))\n",
    "# # generate predictions for training\n",
    "# trainPredict = model.predict(trainX)\n",
    "# testPredict = model.predict(testX)\n",
    "# # shift train predictions for plotting\n",
    "# trainPredictPlot = np.empty_like(dataset)\n",
    "# trainPredictPlot[:, :] = np.nan\n",
    "# trainPredictPlot[look_back:len(trainPredict)+look_back, :] = trainPredict\n",
    "# # shift test predictions for plotting\n",
    "# testPredictPlot = np.empty_like(dataset)\n",
    "# testPredictPlot[:, :] = np.nan\n",
    "# testPredictPlot[len(trainPredict)+(look_back*2)+1:len(dataset)-1, :] = testPredict\n",
    "# # plot baseline and predictions\n",
    "# plt.plot(dataset)\n",
    "# plt.plot(trainPredictPlot)\n",
    "# plt.plot(testPredictPlot)\n",
    "# plt.show()"
   ]
  },
  {
   "cell_type": "code",
   "execution_count": 36,
   "metadata": {},
   "outputs": [
    {
     "data": {
      "image/png": "[encoded data removed]",
      "text/plain": [
       "<Figure size 1200x600 with 1 Axes>"
      ]
     },
     "metadata": {},
     "output_type": "display_data"
    },
    {
     "name": "stdout",
     "output_type": "stream",
     "text": [
      "Estatística ADF: -2.3644472146420097\n",
      "Valor-p: 0.15202331139344577\n",
      "Valores Críticos:\n",
      "1%: -3.4936021509366793\n",
      "5%: -2.8892174239808703\n",
      "10%: -2.58153320754717\n"
     ]
    },
    {
     "data": {
      "image/png": "[encoded data removed]",
      "text/plain": [
       "<Figure size 640x480 with 1 Axes>"
      ]
     },
     "metadata": {},
     "output_type": "display_data"
    },
    {
     "data": {
      "image/png": "[encoded data removed]",
      "text/plain": [
       "<Figure size 640x480 with 1 Axes>"
      ]
     },
     "metadata": {},
     "output_type": "display_data"
    }
   ],
   "source": [
    "import pandas as pd\n",
    "import numpy as np\n",
    "import matplotlib.pyplot as plt\n",
    "from statsmodels.tsa.stattools import adfuller\n",
    "from statsmodels.graphics.tsaplots import plot_acf, plot_pacf\n",
    "from statsmodels.tsa.arima_model import ARIMA\n",
    "\n",
    "# Etapa 1: Carregar e analisar a base de dados\n",
    "data = pd.read_csv(\"vvp.csv\")\n",
    "dates = data[\"mes\"]\n",
    "values = data[\"VVP\"]\n",
    "\n",
    "# Etapa 2: Remover a tendência linear\n",
    "detrended_values = values - np.polyval(np.polyfit(np.arange(len(values)), values, 1), np.arange(len(values)))\n",
    "\n",
    "# Etapa 3: Desenvolver previsores neurais\n",
    "\n",
    "# Etapa 4: Combinação das previsões\n",
    "\n",
    "# Etapa 5: Avaliar a capacidade de generalização\n",
    "\n",
    "# Por enquanto, vamos focar nas etapas de análise e remoção de tendência\n",
    "\n",
    "# Análise dos dados\n",
    "plt.figure(figsize=(12, 6))\n",
    "plt.plot(dates, values, label=\"Série Original\")\n",
    "plt.plot(dates, detrended_values, label=\"Série Detendenciada\")\n",
    "plt.xlabel(\"Data\")\n",
    "plt.ylabel(\"VVP\")\n",
    "plt.title(\"Série Temporal e Série Detendenciada\")\n",
    "plt.legend()\n",
    "plt.show()\n",
    "\n",
    "# Verificar estacionariedade (se a série é estacionária, não precisa remover a tendência)\n",
    "result = adfuller(detrended_values)\n",
    "print(\"Estatística ADF:\", result[0])\n",
    "print(\"Valor-p:\", result[1])\n",
    "print(\"Valores Críticos:\")\n",
    "for key, value in result[4].items():\n",
    "    print(f\"{key}: {value}\")\n",
    "\n",
    "# Plot da Função de Autocorrelação (ACF) e Função de Autocorrelação Parcial (PACF)\n",
    "plot_acf(detrended_values)\n",
    "plt.title(\"Função de Autocorrelação (ACF)\")\n",
    "plt.show()\n",
    "plot_pacf(detrended_values)\n",
    "plt.title(\"Função de Autocorrelação Parcial (PACF)\")\n",
    "plt.show()\n"
   ]
  },
  {
   "cell_type": "markdown",
   "metadata": {},
   "source": [
    "*O gráfico acima mostra as predições do modelo: Azul = conjunto de dados inteiro, Laranja = treinamento, Verde = previsões.*"
   ]
  },
  {
   "cell_type": "markdown",
   "metadata": {},
   "source": [
    "9. Procure na literatura 2 artigos que tratem do tema Sensores Inferenciais (ou Soft Sensors) para uma dada grandeza de seu interesse (e.g. temperatura, pressão, vazão, nível etc.) e que tenham sido publicados nos últimos 5 anos. Explique de forma sucinta o que foi desenvolvido pelos autores, referenciando-os. Sugestão: As principais informações de qualquer artigo geralmente se encontram no título, no resumo e nas conclusões. Ao ler esses três itens, o leitor tem uma boa ideia do que esperar daquele trabalho. A propósito, usualmente o leitor decidirá se lerá todo o artigo ou não com base na sua impressão a respeito desses três itens."
   ]
  },
  {
   "cell_type": "markdown",
   "metadata": {},
   "source": [
    "**Artigo 1: Data-driven soft sensors targeting heat pump systems** Autores: Yang Song, Davide Rolando, Javier Marchante Avellaneda, Gerhard Zucker, Hatef Madani [https://www.sciencedirect.com/science/article/pii/S0196890423001152](https://www.sciencedirect.com/science/article/pii/S0196890423001152)<br>\n",
    "\n",
    "Neste trabalho, os autores (Yang Song, Davide Rolando, Javier Marchante Avellaneda, Gerhard Zucker e Hatef Madani) desenvolveram Sensores Inferenciais (soft sensors) baseados em dados para compensar informações ausentes em sistemas de bombas de calor. \n",
    "Os soft sensors foram desenvolvidos usando um modelo de rede neural artificial (ANN), um modelo de regressão polinomial multivariado integrado e um modelo empírico, levando em consideração diferentes restrições, como disponibilidade de dados e informações durante o processo de estabelecimento do modelo. Os três modelos foram validados com dados de uma instalação de teste de campo e mostraram bom desempenho para todas as variáveis compensadas (taxa de fluxo de massa de refrigeração, sensores de pressão e potência do compressor), conforme tabela abaixo. \n"
   ]
  },
  {
   "cell_type": "markdown",
   "metadata": {},
   "source": [
    "![Tabela 1](tabela1-artigo1.PNG)"
   ]
  },
  {
   "cell_type": "markdown",
   "metadata": {},
   "source": [
    "![Tabela 2](tabela2-artigo1.PNG)"
   ]
  },
  {
   "cell_type": "markdown",
   "metadata": {},
   "source": [
    "![Tabela 3](tabela3-artigo1.PNG)"
   ]
  },
  {
   "cell_type": "markdown",
   "metadata": {},
   "source": [
    "![Tabela 5](tabela5-artigo1.PNG)"
   ]
  },
  {
   "cell_type": "markdown",
   "metadata": {},
   "source": [
    "![Tabela 6](tabela6-artigo1.PNG)"
   ]
  },
  {
   "cell_type": "markdown",
   "metadata": {},
   "source": [
    "![Tabela 7](tabela7-artigo1.PNG)"
   ]
  },
  {
   "cell_type": "markdown",
   "metadata": {},
   "source": [
    "O modelo ANN foi o mais preciso, mas requer mais recursos adicionais para coletar dados de treinamento. O modelo de regressão polinomial multivariado integrado mostrou excelente precisão para a maioria dos soft sensors com dados de subcomponentes do fabricante, sem custo adicional. O estudo demonstrou o potencial dos soft sensors para substituir sensores físicos caros e abrir oportunidades para serviços inovadores com dados de monitoramento incompletos."
   ]
  },
  {
   "cell_type": "markdown",
   "metadata": {},
   "source": [
    "![Tabela 9](tabela9-artigo1.PNG)"
   ]
  },
  {
   "cell_type": "markdown",
   "metadata": {},
   "source": [
    "Isso inclui monitoramento do estado operacional da bomba de calor, previsão de consumo de energia e desenvolvimento de gêmeos digitais para gerenciamento avançado de energia."
   ]
  },
  {
   "cell_type": "markdown",
   "metadata": {},
   "source": [
    "**Artigo 2: Soft sensors design in a petrochemical process using an Evolutionary Algorithm** Autores: Gustavo A.P. de Morais, Bruno H.G. Barbosa, Danton D. Ferreira, Leonardo S. Paiva [https://www.sciencedirect.com/science/article/pii/S0263224119307778?casa_token=W1xOW-naRKQAAAAA:ca54pHuAFLQvtGevvFeadfFwkGNeuuUehYL-vBljSBrTC1FC-a4RqkWX6SQKp8PsAjJZPXwCdZ0](https://www.sciencedirect.com/science/article/pii/S0263224119307778?casa_token=W1xOW-naRKQAAAAA:ca54pHuAFLQvtGevvFeadfFwkGNeuuUehYL-vBljSBrTC1FC-a4RqkWX6SQKp8PsAjJZPXwCdZ0)<br>\n",
    "\n",
    "Neste trabalho, os autores (Gustavo A.P. de Morais, Bruno H.G. Barbosa, Danton D. Ferreira e Leonardo S. Paiva) desenvolveram soft sensors para prever a pressão em poços de petróleo de águas profundas. Nestes ambientes, é crucial monitorar a pressão no fundo do poço para otimizar a produção de petróleo. O desafio é que os sensores reais localizados no leito do mar têm uma vida útil limitada devido às condições adversas, e a falta de informações precisas sobre a pressão pode afetar a produção de petróleo.<br>\n",
    "Para abordar esse problema, os autores propuseram um algoritmo chamado \"Evolutionary Algorithm with Numerical Differentiation (EAND)\" para projetar soft sensors capazes de prever a pressão no fundo do poço. Eles compararam o desempenho do EAND com outros algoritmos de otimização em problemas de otimização simulados para validar sua eficiência. O EAND mostrou convergência rápida e estabilidade. Além disso, os autores usaram o EAND para otimizar os soft sensors propostos para estimar a pressão no fundo do poço em cinco poços reais. O EAND foi comparado com outros métodos de projeto de soft sensors e mostrou a capacidade de encontrar automaticamente os melhores modelos de entrada para os soft sensors, tornando-o uma ferramenta valiosa, dada a complexidade das características dos poços de petróleo. Eles também testaram três modelos diferentes para construir modelos de conjunto, e o Random Forest obteve os melhores resultados em termos de erro percentual médio absoluto (MAPE).<br>\n",
    "Os resultados obtidos mostraram que os soft sensors desenvolvidos com o EAND têm uma precisão muito alta na previsão da pressão no fundo do poço, com erros muito baixos (de 0,1453% a 0,788%). Isso demonstra a eficácia tanto do algoritmo quanto dos modelos de soft sensor propostos.<br>\n",
    "O trabalho dos autores é significativo, pois propõe uma solução inovadora para um problema crítico na indústria de petróleo e gás. Ao desenvolver soft sensors eficazes e introduzir um algoritmo adaptativo como o EAND, eles possibilitaram a criação de sistemas de monitoramento mais robustos e confiáveis para a pressão no fundo do poço. Isso pode levar a uma produção mais eficiente de petróleo e uma melhor gestão dos recursos em poços submarinos, reduzindo a necessidade de substituição frequente de sensores físicos."
   ]
  }
 ],
 "metadata": {
  "kernelspec": {
   "display_name": "Python 3.8.7 64-bit",
   "language": "python",
   "name": "python3"
  },
  "language_info": {
   "codemirror_mode": {
    "name": "ipython",
    "version": 3
   },
   "file_extension": ".py",
   "mimetype": "text/x-python",
   "name": "python",
   "nbconvert_exporter": "python",
   "pygments_lexer": "ipython3",
   "version": "3.11.3"
  },
  "orig_nbformat": 4,
  "vscode": {
   "interpreter": {
    "hash": "9d87e67db777b4b0db676edb6578e0de57a75ced3517006e5561808a12abc48f"
   }
  }
 },
 "nbformat": 4,
 "nbformat_minor": 2
}
